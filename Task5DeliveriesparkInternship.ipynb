{
  "nbformat": 4,
  "nbformat_minor": 0,
  "metadata": {
    "colab": {
      "name": "Task5DeliveriesparkInternship.ipynb",
      "provenance": [],
      "collapsed_sections": []
    },
    "kernelspec": {
      "name": "python3",
      "display_name": "Python 3"
    }
  },
  "cells": [
    {
      "cell_type": "markdown",
      "metadata": {
        "id": "g9UX7W6wHk34"
      },
      "source": [
        "**GRIP : The Sparks Foundation ( Data Science and Business Analytics Intern )**"
      ]
    },
    {
      "cell_type": "markdown",
      "metadata": {
        "id": "y4roU1fGHn_-"
      },
      "source": [
        "**Name: Suraj Sanjeev Pawar**"
      ]
    },
    {
      "cell_type": "markdown",
      "metadata": {
        "id": "ZH5EXKyzHr-G"
      },
      "source": [
        "**Task 5: Exploratory Data Analysis Sports on dataset ‘Indian Premier League’**"
      ]
    },
    {
      "cell_type": "markdown",
      "metadata": {
        "id": "cmdRfBL3ILDy"
      },
      "source": [
        "**Problem Statement**:\r\n",
        "- ***To Perform Exploratory Data Analysis on 'Indian Premiere League' <br>***\r\n",
        "- ***As a sports analysts, find out the most successful teams, players and factors contributing win or loss of a team.<br>***\r\n",
        "- ***To Suggest teams or players a company should endorse for its products.<br>***\r\n"
      ]
    },
    {
      "cell_type": "markdown",
      "metadata": {
        "id": "Q2pZ1pa1ZvG4"
      },
      "source": [
        "***Importing  required libraries***"
      ]
    },
    {
      "cell_type": "code",
      "metadata": {
        "id": "m3qg2IMKEUio"
      },
      "source": [
        "import pandas as pd\r\n",
        "import numpy as np\r\n",
        "import matplotlib.pyplot as plt\r\n",
        "import seaborn as sns"
      ],
      "execution_count": null,
      "outputs": []
    },
    {
      "cell_type": "markdown",
      "metadata": {
        "id": "i4HY5o83Z0Nx"
      },
      "source": [
        "***Importing the dataset***"
      ]
    },
    {
      "cell_type": "code",
      "metadata": {
        "colab": {
          "base_uri": "https://localhost:8080/",
          "height": 394
        },
        "id": "a9zmyWk8Ilbk",
        "outputId": "b78c2a18-7865-4988-a0ea-2a2b0cb5a9ac"
      },
      "source": [
        "df=pd.read_csv('deliveries.csv')\r\n",
        "df.head()"
      ],
      "execution_count": null,
      "outputs": [
        {
          "output_type": "execute_result",
          "data": {
            "text/html": [
              "<div>\n",
              "<style scoped>\n",
              "    .dataframe tbody tr th:only-of-type {\n",
              "        vertical-align: middle;\n",
              "    }\n",
              "\n",
              "    .dataframe tbody tr th {\n",
              "        vertical-align: top;\n",
              "    }\n",
              "\n",
              "    .dataframe thead th {\n",
              "        text-align: right;\n",
              "    }\n",
              "</style>\n",
              "<table border=\"1\" class=\"dataframe\">\n",
              "  <thead>\n",
              "    <tr style=\"text-align: right;\">\n",
              "      <th></th>\n",
              "      <th>match_id</th>\n",
              "      <th>inning</th>\n",
              "      <th>batting_team</th>\n",
              "      <th>bowling_team</th>\n",
              "      <th>over</th>\n",
              "      <th>ball</th>\n",
              "      <th>batsman</th>\n",
              "      <th>non_striker</th>\n",
              "      <th>bowler</th>\n",
              "      <th>is_super_over</th>\n",
              "      <th>wide_runs</th>\n",
              "      <th>bye_runs</th>\n",
              "      <th>legbye_runs</th>\n",
              "      <th>noball_runs</th>\n",
              "      <th>penalty_runs</th>\n",
              "      <th>batsman_runs</th>\n",
              "      <th>extra_runs</th>\n",
              "      <th>total_runs</th>\n",
              "      <th>player_dismissed</th>\n",
              "      <th>dismissal_kind</th>\n",
              "      <th>fielder</th>\n",
              "    </tr>\n",
              "  </thead>\n",
              "  <tbody>\n",
              "    <tr>\n",
              "      <th>0</th>\n",
              "      <td>1</td>\n",
              "      <td>1</td>\n",
              "      <td>Sunrisers Hyderabad</td>\n",
              "      <td>Royal Challengers Bangalore</td>\n",
              "      <td>1</td>\n",
              "      <td>1</td>\n",
              "      <td>DA Warner</td>\n",
              "      <td>S Dhawan</td>\n",
              "      <td>TS Mills</td>\n",
              "      <td>0</td>\n",
              "      <td>0</td>\n",
              "      <td>0</td>\n",
              "      <td>0</td>\n",
              "      <td>0</td>\n",
              "      <td>0</td>\n",
              "      <td>0</td>\n",
              "      <td>0</td>\n",
              "      <td>0</td>\n",
              "      <td>NaN</td>\n",
              "      <td>NaN</td>\n",
              "      <td>NaN</td>\n",
              "    </tr>\n",
              "    <tr>\n",
              "      <th>1</th>\n",
              "      <td>1</td>\n",
              "      <td>1</td>\n",
              "      <td>Sunrisers Hyderabad</td>\n",
              "      <td>Royal Challengers Bangalore</td>\n",
              "      <td>1</td>\n",
              "      <td>2</td>\n",
              "      <td>DA Warner</td>\n",
              "      <td>S Dhawan</td>\n",
              "      <td>TS Mills</td>\n",
              "      <td>0</td>\n",
              "      <td>0</td>\n",
              "      <td>0</td>\n",
              "      <td>0</td>\n",
              "      <td>0</td>\n",
              "      <td>0</td>\n",
              "      <td>0</td>\n",
              "      <td>0</td>\n",
              "      <td>0</td>\n",
              "      <td>NaN</td>\n",
              "      <td>NaN</td>\n",
              "      <td>NaN</td>\n",
              "    </tr>\n",
              "    <tr>\n",
              "      <th>2</th>\n",
              "      <td>1</td>\n",
              "      <td>1</td>\n",
              "      <td>Sunrisers Hyderabad</td>\n",
              "      <td>Royal Challengers Bangalore</td>\n",
              "      <td>1</td>\n",
              "      <td>3</td>\n",
              "      <td>DA Warner</td>\n",
              "      <td>S Dhawan</td>\n",
              "      <td>TS Mills</td>\n",
              "      <td>0</td>\n",
              "      <td>0</td>\n",
              "      <td>0</td>\n",
              "      <td>0</td>\n",
              "      <td>0</td>\n",
              "      <td>0</td>\n",
              "      <td>4</td>\n",
              "      <td>0</td>\n",
              "      <td>4</td>\n",
              "      <td>NaN</td>\n",
              "      <td>NaN</td>\n",
              "      <td>NaN</td>\n",
              "    </tr>\n",
              "    <tr>\n",
              "      <th>3</th>\n",
              "      <td>1</td>\n",
              "      <td>1</td>\n",
              "      <td>Sunrisers Hyderabad</td>\n",
              "      <td>Royal Challengers Bangalore</td>\n",
              "      <td>1</td>\n",
              "      <td>4</td>\n",
              "      <td>DA Warner</td>\n",
              "      <td>S Dhawan</td>\n",
              "      <td>TS Mills</td>\n",
              "      <td>0</td>\n",
              "      <td>0</td>\n",
              "      <td>0</td>\n",
              "      <td>0</td>\n",
              "      <td>0</td>\n",
              "      <td>0</td>\n",
              "      <td>0</td>\n",
              "      <td>0</td>\n",
              "      <td>0</td>\n",
              "      <td>NaN</td>\n",
              "      <td>NaN</td>\n",
              "      <td>NaN</td>\n",
              "    </tr>\n",
              "    <tr>\n",
              "      <th>4</th>\n",
              "      <td>1</td>\n",
              "      <td>1</td>\n",
              "      <td>Sunrisers Hyderabad</td>\n",
              "      <td>Royal Challengers Bangalore</td>\n",
              "      <td>1</td>\n",
              "      <td>5</td>\n",
              "      <td>DA Warner</td>\n",
              "      <td>S Dhawan</td>\n",
              "      <td>TS Mills</td>\n",
              "      <td>0</td>\n",
              "      <td>2</td>\n",
              "      <td>0</td>\n",
              "      <td>0</td>\n",
              "      <td>0</td>\n",
              "      <td>0</td>\n",
              "      <td>0</td>\n",
              "      <td>2</td>\n",
              "      <td>2</td>\n",
              "      <td>NaN</td>\n",
              "      <td>NaN</td>\n",
              "      <td>NaN</td>\n",
              "    </tr>\n",
              "  </tbody>\n",
              "</table>\n",
              "</div>"
            ],
            "text/plain": [
              "   match_id  inning  ... dismissal_kind fielder\n",
              "0         1       1  ...            NaN     NaN\n",
              "1         1       1  ...            NaN     NaN\n",
              "2         1       1  ...            NaN     NaN\n",
              "3         1       1  ...            NaN     NaN\n",
              "4         1       1  ...            NaN     NaN\n",
              "\n",
              "[5 rows x 21 columns]"
            ]
          },
          "metadata": {
            "tags": []
          },
          "execution_count": 2
        }
      ]
    },
    {
      "cell_type": "markdown",
      "metadata": {
        "id": "OcExjKxoZ78F"
      },
      "source": [
        "***shape of the given dataset***\r\n"
      ]
    },
    {
      "cell_type": "code",
      "metadata": {
        "id": "A-lmV-HlZ6Gz"
      },
      "source": [
        "#to find the shape of dataframe\r\n",
        "print(dataset.shape)"
      ],
      "execution_count": null,
      "outputs": []
    },
    {
      "cell_type": "markdown",
      "metadata": {
        "id": "WfU0DLH2aG8M"
      },
      "source": [
        "***to fine the type of the dataset***"
      ]
    },
    {
      "cell_type": "code",
      "metadata": {
        "id": "q7OrvkUraEfy"
      },
      "source": [
        "#to find the type of dataset\r\n",
        "print(type(dataset))"
      ],
      "execution_count": null,
      "outputs": []
    },
    {
      "cell_type": "markdown",
      "metadata": {
        "id": "Wmg-AgWDaLeP"
      },
      "source": [
        "***finding the first five rows in dataset***"
      ]
    },
    {
      "cell_type": "code",
      "metadata": {
        "id": "Bf58F_BRaOAm"
      },
      "source": [
        "#to find the first row to the dataframe\r\n",
        "dataset.head()"
      ],
      "execution_count": null,
      "outputs": []
    },
    {
      "cell_type": "markdown",
      "metadata": {
        "id": "GM9VLYCHaSfg"
      },
      "source": [
        "***finding the last five rows in dataset***"
      ]
    },
    {
      "cell_type": "code",
      "metadata": {
        "colab": {
          "base_uri": "https://localhost:8080/",
          "height": 309
        },
        "id": "E5ZP9H_6iMO8",
        "outputId": "db4f4961-2ca0-4a24-88d3-f5ee891300b6"
      },
      "source": [
        "#to find the last five rows in dataframe\r\n",
        "df.tail()"
      ],
      "execution_count": null,
      "outputs": [
        {
          "output_type": "execute_result",
          "data": {
            "text/html": [
              "<div>\n",
              "<style scoped>\n",
              "    .dataframe tbody tr th:only-of-type {\n",
              "        vertical-align: middle;\n",
              "    }\n",
              "\n",
              "    .dataframe tbody tr th {\n",
              "        vertical-align: top;\n",
              "    }\n",
              "\n",
              "    .dataframe thead th {\n",
              "        text-align: right;\n",
              "    }\n",
              "</style>\n",
              "<table border=\"1\" class=\"dataframe\">\n",
              "  <thead>\n",
              "    <tr style=\"text-align: right;\">\n",
              "      <th></th>\n",
              "      <th>match_id</th>\n",
              "      <th>inning</th>\n",
              "      <th>batting_team</th>\n",
              "      <th>bowling_team</th>\n",
              "      <th>over</th>\n",
              "      <th>ball</th>\n",
              "      <th>batsman</th>\n",
              "      <th>non_striker</th>\n",
              "      <th>bowler</th>\n",
              "      <th>is_super_over</th>\n",
              "      <th>wide_runs</th>\n",
              "      <th>bye_runs</th>\n",
              "      <th>legbye_runs</th>\n",
              "      <th>noball_runs</th>\n",
              "      <th>penalty_runs</th>\n",
              "      <th>batsman_runs</th>\n",
              "      <th>extra_runs</th>\n",
              "      <th>total_runs</th>\n",
              "      <th>player_dismissed</th>\n",
              "      <th>dismissal_kind</th>\n",
              "      <th>fielder</th>\n",
              "    </tr>\n",
              "  </thead>\n",
              "  <tbody>\n",
              "    <tr>\n",
              "      <th>179073</th>\n",
              "      <td>11415</td>\n",
              "      <td>2</td>\n",
              "      <td>Chennai Super Kings</td>\n",
              "      <td>Mumbai Indians</td>\n",
              "      <td>20</td>\n",
              "      <td>2</td>\n",
              "      <td>RA Jadeja</td>\n",
              "      <td>SR Watson</td>\n",
              "      <td>SL Malinga</td>\n",
              "      <td>0</td>\n",
              "      <td>0</td>\n",
              "      <td>0</td>\n",
              "      <td>0</td>\n",
              "      <td>0</td>\n",
              "      <td>0</td>\n",
              "      <td>1</td>\n",
              "      <td>0</td>\n",
              "      <td>1</td>\n",
              "      <td>NaN</td>\n",
              "      <td>NaN</td>\n",
              "      <td>NaN</td>\n",
              "    </tr>\n",
              "    <tr>\n",
              "      <th>179074</th>\n",
              "      <td>11415</td>\n",
              "      <td>2</td>\n",
              "      <td>Chennai Super Kings</td>\n",
              "      <td>Mumbai Indians</td>\n",
              "      <td>20</td>\n",
              "      <td>3</td>\n",
              "      <td>SR Watson</td>\n",
              "      <td>RA Jadeja</td>\n",
              "      <td>SL Malinga</td>\n",
              "      <td>0</td>\n",
              "      <td>0</td>\n",
              "      <td>0</td>\n",
              "      <td>0</td>\n",
              "      <td>0</td>\n",
              "      <td>0</td>\n",
              "      <td>2</td>\n",
              "      <td>0</td>\n",
              "      <td>2</td>\n",
              "      <td>NaN</td>\n",
              "      <td>NaN</td>\n",
              "      <td>NaN</td>\n",
              "    </tr>\n",
              "    <tr>\n",
              "      <th>179075</th>\n",
              "      <td>11415</td>\n",
              "      <td>2</td>\n",
              "      <td>Chennai Super Kings</td>\n",
              "      <td>Mumbai Indians</td>\n",
              "      <td>20</td>\n",
              "      <td>4</td>\n",
              "      <td>SR Watson</td>\n",
              "      <td>RA Jadeja</td>\n",
              "      <td>SL Malinga</td>\n",
              "      <td>0</td>\n",
              "      <td>0</td>\n",
              "      <td>0</td>\n",
              "      <td>0</td>\n",
              "      <td>0</td>\n",
              "      <td>0</td>\n",
              "      <td>1</td>\n",
              "      <td>0</td>\n",
              "      <td>1</td>\n",
              "      <td>SR Watson</td>\n",
              "      <td>run out</td>\n",
              "      <td>KH Pandya</td>\n",
              "    </tr>\n",
              "    <tr>\n",
              "      <th>179076</th>\n",
              "      <td>11415</td>\n",
              "      <td>2</td>\n",
              "      <td>Chennai Super Kings</td>\n",
              "      <td>Mumbai Indians</td>\n",
              "      <td>20</td>\n",
              "      <td>5</td>\n",
              "      <td>SN Thakur</td>\n",
              "      <td>RA Jadeja</td>\n",
              "      <td>SL Malinga</td>\n",
              "      <td>0</td>\n",
              "      <td>0</td>\n",
              "      <td>0</td>\n",
              "      <td>0</td>\n",
              "      <td>0</td>\n",
              "      <td>0</td>\n",
              "      <td>2</td>\n",
              "      <td>0</td>\n",
              "      <td>2</td>\n",
              "      <td>NaN</td>\n",
              "      <td>NaN</td>\n",
              "      <td>NaN</td>\n",
              "    </tr>\n",
              "    <tr>\n",
              "      <th>179077</th>\n",
              "      <td>11415</td>\n",
              "      <td>2</td>\n",
              "      <td>Chennai Super Kings</td>\n",
              "      <td>Mumbai Indians</td>\n",
              "      <td>20</td>\n",
              "      <td>6</td>\n",
              "      <td>SN Thakur</td>\n",
              "      <td>RA Jadeja</td>\n",
              "      <td>SL Malinga</td>\n",
              "      <td>0</td>\n",
              "      <td>0</td>\n",
              "      <td>0</td>\n",
              "      <td>0</td>\n",
              "      <td>0</td>\n",
              "      <td>0</td>\n",
              "      <td>0</td>\n",
              "      <td>0</td>\n",
              "      <td>0</td>\n",
              "      <td>SN Thakur</td>\n",
              "      <td>lbw</td>\n",
              "      <td>NaN</td>\n",
              "    </tr>\n",
              "  </tbody>\n",
              "</table>\n",
              "</div>"
            ],
            "text/plain": [
              "        match_id  inning  ... dismissal_kind    fielder\n",
              "179073     11415       2  ...            NaN        NaN\n",
              "179074     11415       2  ...            NaN        NaN\n",
              "179075     11415       2  ...        run out  KH Pandya\n",
              "179076     11415       2  ...            NaN        NaN\n",
              "179077     11415       2  ...            lbw        NaN\n",
              "\n",
              "[5 rows x 21 columns]"
            ]
          },
          "metadata": {
            "tags": []
          },
          "execution_count": 3
        }
      ]
    },
    {
      "cell_type": "markdown",
      "metadata": {
        "id": "3QdOeKjRiJbz"
      },
      "source": [
        "***indepth Analysis of RA Jadeja(Mumbai Indians Batsman) Performance***"
      ]
    },
    {
      "cell_type": "code",
      "metadata": {
        "colab": {
          "base_uri": "https://localhost:8080/",
          "height": 394
        },
        "id": "AZVptPeqiVoN",
        "outputId": "253536e5-a523-4c64-dd30-942e39ded3be"
      },
      "source": [
        "filt=(df['batsman']=='RA Jadeja')\r\n",
        "df_jadeja=df[filt]\r\n",
        "df_jadeja.head()"
      ],
      "execution_count": null,
      "outputs": [
        {
          "output_type": "execute_result",
          "data": {
            "text/html": [
              "<div>\n",
              "<style scoped>\n",
              "    .dataframe tbody tr th:only-of-type {\n",
              "        vertical-align: middle;\n",
              "    }\n",
              "\n",
              "    .dataframe tbody tr th {\n",
              "        vertical-align: top;\n",
              "    }\n",
              "\n",
              "    .dataframe thead th {\n",
              "        text-align: right;\n",
              "    }\n",
              "</style>\n",
              "<table border=\"1\" class=\"dataframe\">\n",
              "  <thead>\n",
              "    <tr style=\"text-align: right;\">\n",
              "      <th></th>\n",
              "      <th>match_id</th>\n",
              "      <th>inning</th>\n",
              "      <th>batting_team</th>\n",
              "      <th>bowling_team</th>\n",
              "      <th>over</th>\n",
              "      <th>ball</th>\n",
              "      <th>batsman</th>\n",
              "      <th>non_striker</th>\n",
              "      <th>bowler</th>\n",
              "      <th>is_super_over</th>\n",
              "      <th>wide_runs</th>\n",
              "      <th>bye_runs</th>\n",
              "      <th>legbye_runs</th>\n",
              "      <th>noball_runs</th>\n",
              "      <th>penalty_runs</th>\n",
              "      <th>batsman_runs</th>\n",
              "      <th>extra_runs</th>\n",
              "      <th>total_runs</th>\n",
              "      <th>player_dismissed</th>\n",
              "      <th>dismissal_kind</th>\n",
              "      <th>fielder</th>\n",
              "    </tr>\n",
              "  </thead>\n",
              "  <tbody>\n",
              "    <tr>\n",
              "      <th>4757</th>\n",
              "      <td>20</td>\n",
              "      <td>2</td>\n",
              "      <td>Gujarat Lions</td>\n",
              "      <td>Royal Challengers Bangalore</td>\n",
              "      <td>12</td>\n",
              "      <td>3</td>\n",
              "      <td>RA Jadeja</td>\n",
              "      <td>BB McCullum</td>\n",
              "      <td>P Negi</td>\n",
              "      <td>0</td>\n",
              "      <td>0</td>\n",
              "      <td>0</td>\n",
              "      <td>0</td>\n",
              "      <td>0</td>\n",
              "      <td>0</td>\n",
              "      <td>0</td>\n",
              "      <td>0</td>\n",
              "      <td>0</td>\n",
              "      <td>NaN</td>\n",
              "      <td>NaN</td>\n",
              "      <td>NaN</td>\n",
              "    </tr>\n",
              "    <tr>\n",
              "      <th>4758</th>\n",
              "      <td>20</td>\n",
              "      <td>2</td>\n",
              "      <td>Gujarat Lions</td>\n",
              "      <td>Royal Challengers Bangalore</td>\n",
              "      <td>12</td>\n",
              "      <td>4</td>\n",
              "      <td>RA Jadeja</td>\n",
              "      <td>BB McCullum</td>\n",
              "      <td>P Negi</td>\n",
              "      <td>0</td>\n",
              "      <td>0</td>\n",
              "      <td>0</td>\n",
              "      <td>0</td>\n",
              "      <td>0</td>\n",
              "      <td>0</td>\n",
              "      <td>0</td>\n",
              "      <td>0</td>\n",
              "      <td>0</td>\n",
              "      <td>NaN</td>\n",
              "      <td>NaN</td>\n",
              "      <td>NaN</td>\n",
              "    </tr>\n",
              "    <tr>\n",
              "      <th>4759</th>\n",
              "      <td>20</td>\n",
              "      <td>2</td>\n",
              "      <td>Gujarat Lions</td>\n",
              "      <td>Royal Challengers Bangalore</td>\n",
              "      <td>12</td>\n",
              "      <td>5</td>\n",
              "      <td>RA Jadeja</td>\n",
              "      <td>BB McCullum</td>\n",
              "      <td>P Negi</td>\n",
              "      <td>0</td>\n",
              "      <td>0</td>\n",
              "      <td>0</td>\n",
              "      <td>0</td>\n",
              "      <td>0</td>\n",
              "      <td>0</td>\n",
              "      <td>0</td>\n",
              "      <td>0</td>\n",
              "      <td>0</td>\n",
              "      <td>NaN</td>\n",
              "      <td>NaN</td>\n",
              "      <td>NaN</td>\n",
              "    </tr>\n",
              "    <tr>\n",
              "      <th>4760</th>\n",
              "      <td>20</td>\n",
              "      <td>2</td>\n",
              "      <td>Gujarat Lions</td>\n",
              "      <td>Royal Challengers Bangalore</td>\n",
              "      <td>12</td>\n",
              "      <td>6</td>\n",
              "      <td>RA Jadeja</td>\n",
              "      <td>BB McCullum</td>\n",
              "      <td>P Negi</td>\n",
              "      <td>0</td>\n",
              "      <td>0</td>\n",
              "      <td>0</td>\n",
              "      <td>0</td>\n",
              "      <td>0</td>\n",
              "      <td>0</td>\n",
              "      <td>0</td>\n",
              "      <td>0</td>\n",
              "      <td>0</td>\n",
              "      <td>NaN</td>\n",
              "      <td>NaN</td>\n",
              "      <td>NaN</td>\n",
              "    </tr>\n",
              "    <tr>\n",
              "      <th>4762</th>\n",
              "      <td>20</td>\n",
              "      <td>2</td>\n",
              "      <td>Gujarat Lions</td>\n",
              "      <td>Royal Challengers Bangalore</td>\n",
              "      <td>13</td>\n",
              "      <td>2</td>\n",
              "      <td>RA Jadeja</td>\n",
              "      <td>BB McCullum</td>\n",
              "      <td>AF Milne</td>\n",
              "      <td>0</td>\n",
              "      <td>0</td>\n",
              "      <td>0</td>\n",
              "      <td>0</td>\n",
              "      <td>0</td>\n",
              "      <td>0</td>\n",
              "      <td>1</td>\n",
              "      <td>0</td>\n",
              "      <td>1</td>\n",
              "      <td>NaN</td>\n",
              "      <td>NaN</td>\n",
              "      <td>NaN</td>\n",
              "    </tr>\n",
              "  </tbody>\n",
              "</table>\n",
              "</div>"
            ],
            "text/plain": [
              "      match_id  inning   batting_team  ... player_dismissed  dismissal_kind  fielder\n",
              "4757        20       2  Gujarat Lions  ...              NaN             NaN      NaN\n",
              "4758        20       2  Gujarat Lions  ...              NaN             NaN      NaN\n",
              "4759        20       2  Gujarat Lions  ...              NaN             NaN      NaN\n",
              "4760        20       2  Gujarat Lions  ...              NaN             NaN      NaN\n",
              "4762        20       2  Gujarat Lions  ...              NaN             NaN      NaN\n",
              "\n",
              "[5 rows x 21 columns]"
            ]
          },
          "metadata": {
            "tags": []
          },
          "execution_count": 4
        }
      ]
    },
    {
      "cell_type": "code",
      "metadata": {
        "colab": {
          "base_uri": "https://localhost:8080/",
          "height": 265
        },
        "id": "6y7qdr5bIo61",
        "outputId": "fea6e408-4b9c-4beb-9732-1e40c590bd81"
      },
      "source": [
        "df_jadeja['dismissal_kind'].value_counts().plot.pie()"
      ],
      "execution_count": null,
      "outputs": [
        {
          "output_type": "execute_result",
          "data": {
            "text/plain": [
              "<matplotlib.axes._subplots.AxesSubplot at 0x7ff76d7e1b50>"
            ]
          },
          "metadata": {
            "tags": []
          },
          "execution_count": 5
        },
        {
          "output_type": "display_data",
          "data": {
            "image/png": "[encoded data removed]",
            "text/plain": [
              "<Figure size 432x288 with 1 Axes>"
            ]
          },
          "metadata": {
            "tags": []
          }
        }
      ]
    },
    {
      "cell_type": "code",
      "metadata": {
        "colab": {
          "base_uri": "https://localhost:8080/"
        },
        "id": "9bpzjgc5iZ9C",
        "outputId": "309908f0-9198-4246-f0e9-0f4ec768e079"
      },
      "source": [
        "len(df_jadeja[df_jadeja['batsman_runs']==4])"
      ],
      "execution_count": null,
      "outputs": [
        {
          "output_type": "execute_result",
          "data": {
            "text/plain": [
              "137"
            ]
          },
          "metadata": {
            "tags": []
          },
          "execution_count": 8
        }
      ]
    },
    {
      "cell_type": "code",
      "metadata": {
        "colab": {
          "base_uri": "https://localhost:8080/"
        },
        "id": "5BE4X2UFidRF",
        "outputId": "35f74d35-6d4f-4d63-a521-aaa4039b71fb"
      },
      "source": [
        "len(df_jadeja[df_jadeja['batsman_runs']==6])"
      ],
      "execution_count": null,
      "outputs": [
        {
          "output_type": "execute_result",
          "data": {
            "text/plain": [
              "65"
            ]
          },
          "metadata": {
            "tags": []
          },
          "execution_count": 9
        }
      ]
    },
    {
      "cell_type": "code",
      "metadata": {
        "colab": {
          "base_uri": "https://localhost:8080/"
        },
        "id": "ddo-HGy4igsf",
        "outputId": "0ca69fa9-169c-4b85-988e-c0686040c2b0"
      },
      "source": [
        "df_jadeja['total_runs'].sum()"
      ],
      "execution_count": null,
      "outputs": [
        {
          "output_type": "execute_result",
          "data": {
            "text/plain": [
              "2069"
            ]
          },
          "metadata": {
            "tags": []
          },
          "execution_count": 10
        }
      ]
    },
    {
      "cell_type": "code",
      "metadata": {
        "id": "L2jqV2IXij3l"
      },
      "source": [
        "def count(df,runs):\r\n",
        "    return len(df_jadeja[df_jadeja['batsman_runs']==runs])*runs"
      ],
      "execution_count": null,
      "outputs": []
    },
    {
      "cell_type": "code",
      "metadata": {
        "colab": {
          "base_uri": "https://localhost:8080/"
        },
        "id": "WLAok62rim4i",
        "outputId": "fda1d9be-4393-4325-c733-545b330ce678"
      },
      "source": [
        "count(df_jadeja,1)"
      ],
      "execution_count": null,
      "outputs": [
        {
          "output_type": "execute_result",
          "data": {
            "text/plain": [
              "706"
            ]
          },
          "metadata": {
            "tags": []
          },
          "execution_count": 14
        }
      ]
    },
    {
      "cell_type": "code",
      "metadata": {
        "colab": {
          "base_uri": "https://localhost:8080/"
        },
        "id": "d_p9Kj9Mio5U",
        "outputId": "e4e14800-8ddf-411c-c2ab-4254045d3344"
      },
      "source": [
        "count(df_jadeja,2)"
      ],
      "execution_count": null,
      "outputs": [
        {
          "output_type": "execute_result",
          "data": {
            "text/plain": [
              "292"
            ]
          },
          "metadata": {
            "tags": []
          },
          "execution_count": 15
        }
      ]
    },
    {
      "cell_type": "code",
      "metadata": {
        "colab": {
          "base_uri": "https://localhost:8080/"
        },
        "id": "xGp6oHvsiqve",
        "outputId": "72d7085c-11ac-493b-bbb6-4ab595ae4f8d"
      },
      "source": [
        "count(df_jadeja,3)"
      ],
      "execution_count": null,
      "outputs": [
        {
          "output_type": "execute_result",
          "data": {
            "text/plain": [
              "15"
            ]
          },
          "metadata": {
            "tags": []
          },
          "execution_count": 16
        }
      ]
    },
    {
      "cell_type": "code",
      "metadata": {
        "colab": {
          "base_uri": "https://localhost:8080/"
        },
        "id": "lPvKOHdYis6d",
        "outputId": "08336e80-851e-4593-9316-88ac462e4b44"
      },
      "source": [
        "count(df_jadeja,4)"
      ],
      "execution_count": null,
      "outputs": [
        {
          "output_type": "execute_result",
          "data": {
            "text/plain": [
              "548"
            ]
          },
          "metadata": {
            "tags": []
          },
          "execution_count": 17
        }
      ]
    },
    {
      "cell_type": "code",
      "metadata": {
        "colab": {
          "base_uri": "https://localhost:8080/"
        },
        "id": "3Wz4RlP3iwUm",
        "outputId": "eef88b21-acb6-471b-e5c4-91ddfbdd00cf"
      },
      "source": [
        "count(df_jadeja,6)"
      ],
      "execution_count": null,
      "outputs": [
        {
          "output_type": "execute_result",
          "data": {
            "text/plain": [
              "390"
            ]
          },
          "metadata": {
            "tags": []
          },
          "execution_count": 18
        }
      ]
    },
    {
      "cell_type": "markdown",
      "metadata": {
        "id": "IQLNYOH6afU4"
      },
      "source": [
        "***Show a Visualization of the player RA Jadeja total runs contribution***"
      ]
    },
    {
      "cell_type": "code",
      "metadata": {
        "colab": {
          "base_uri": "https://localhost:8080/",
          "height": 297
        },
        "id": "AUWQPpSfiy7L",
        "outputId": "59bb77ab-9a09-46a3-d876-c4f32b336f91"
      },
      "source": [
        "slices=[997,414,39,1604,960]\r\n",
        "labels=[1,2,3,4,6]\r\n",
        "explode=[0,0,0,0,0.1]\r\n",
        "plt.pie(slices,labels=labels,autopct='%1.1f%%',explode=explode)\r\n",
        "plt.title(\"RA Jadeja total runs contribution\")\r\n",
        "plt.tight_layout()\r\n",
        "plt.show()"
      ],
      "execution_count": null,
      "outputs": [
        {
          "output_type": "display_data",
          "data": {
            "image/png": "[encoded data removed]",
            "text/plain": [
              "<Figure size 432x288 with 1 Axes>"
            ]
          },
          "metadata": {
            "tags": []
          }
        }
      ]
    },
    {
      "cell_type": "code",
      "metadata": {
        "colab": {
          "base_uri": "https://localhost:8080/",
          "height": 394
        },
        "id": "fViIFEIui2By",
        "outputId": "b6fb8c95-f5cc-471b-84fa-711dd2bc0c82"
      },
      "source": [
        "df.head()"
      ],
      "execution_count": null,
      "outputs": [
        {
          "output_type": "execute_result",
          "data": {
            "text/html": [
              "<div>\n",
              "<style scoped>\n",
              "    .dataframe tbody tr th:only-of-type {\n",
              "        vertical-align: middle;\n",
              "    }\n",
              "\n",
              "    .dataframe tbody tr th {\n",
              "        vertical-align: top;\n",
              "    }\n",
              "\n",
              "    .dataframe thead th {\n",
              "        text-align: right;\n",
              "    }\n",
              "</style>\n",
              "<table border=\"1\" class=\"dataframe\">\n",
              "  <thead>\n",
              "    <tr style=\"text-align: right;\">\n",
              "      <th></th>\n",
              "      <th>match_id</th>\n",
              "      <th>inning</th>\n",
              "      <th>batting_team</th>\n",
              "      <th>bowling_team</th>\n",
              "      <th>over</th>\n",
              "      <th>ball</th>\n",
              "      <th>batsman</th>\n",
              "      <th>non_striker</th>\n",
              "      <th>bowler</th>\n",
              "      <th>is_super_over</th>\n",
              "      <th>wide_runs</th>\n",
              "      <th>bye_runs</th>\n",
              "      <th>legbye_runs</th>\n",
              "      <th>noball_runs</th>\n",
              "      <th>penalty_runs</th>\n",
              "      <th>batsman_runs</th>\n",
              "      <th>extra_runs</th>\n",
              "      <th>total_runs</th>\n",
              "      <th>player_dismissed</th>\n",
              "      <th>dismissal_kind</th>\n",
              "      <th>fielder</th>\n",
              "    </tr>\n",
              "  </thead>\n",
              "  <tbody>\n",
              "    <tr>\n",
              "      <th>0</th>\n",
              "      <td>1</td>\n",
              "      <td>1</td>\n",
              "      <td>Sunrisers Hyderabad</td>\n",
              "      <td>Royal Challengers Bangalore</td>\n",
              "      <td>1</td>\n",
              "      <td>1</td>\n",
              "      <td>DA Warner</td>\n",
              "      <td>S Dhawan</td>\n",
              "      <td>TS Mills</td>\n",
              "      <td>0</td>\n",
              "      <td>0</td>\n",
              "      <td>0</td>\n",
              "      <td>0</td>\n",
              "      <td>0</td>\n",
              "      <td>0</td>\n",
              "      <td>0</td>\n",
              "      <td>0</td>\n",
              "      <td>0</td>\n",
              "      <td>NaN</td>\n",
              "      <td>NaN</td>\n",
              "      <td>NaN</td>\n",
              "    </tr>\n",
              "    <tr>\n",
              "      <th>1</th>\n",
              "      <td>1</td>\n",
              "      <td>1</td>\n",
              "      <td>Sunrisers Hyderabad</td>\n",
              "      <td>Royal Challengers Bangalore</td>\n",
              "      <td>1</td>\n",
              "      <td>2</td>\n",
              "      <td>DA Warner</td>\n",
              "      <td>S Dhawan</td>\n",
              "      <td>TS Mills</td>\n",
              "      <td>0</td>\n",
              "      <td>0</td>\n",
              "      <td>0</td>\n",
              "      <td>0</td>\n",
              "      <td>0</td>\n",
              "      <td>0</td>\n",
              "      <td>0</td>\n",
              "      <td>0</td>\n",
              "      <td>0</td>\n",
              "      <td>NaN</td>\n",
              "      <td>NaN</td>\n",
              "      <td>NaN</td>\n",
              "    </tr>\n",
              "    <tr>\n",
              "      <th>2</th>\n",
              "      <td>1</td>\n",
              "      <td>1</td>\n",
              "      <td>Sunrisers Hyderabad</td>\n",
              "      <td>Royal Challengers Bangalore</td>\n",
              "      <td>1</td>\n",
              "      <td>3</td>\n",
              "      <td>DA Warner</td>\n",
              "      <td>S Dhawan</td>\n",
              "      <td>TS Mills</td>\n",
              "      <td>0</td>\n",
              "      <td>0</td>\n",
              "      <td>0</td>\n",
              "      <td>0</td>\n",
              "      <td>0</td>\n",
              "      <td>0</td>\n",
              "      <td>4</td>\n",
              "      <td>0</td>\n",
              "      <td>4</td>\n",
              "      <td>NaN</td>\n",
              "      <td>NaN</td>\n",
              "      <td>NaN</td>\n",
              "    </tr>\n",
              "    <tr>\n",
              "      <th>3</th>\n",
              "      <td>1</td>\n",
              "      <td>1</td>\n",
              "      <td>Sunrisers Hyderabad</td>\n",
              "      <td>Royal Challengers Bangalore</td>\n",
              "      <td>1</td>\n",
              "      <td>4</td>\n",
              "      <td>DA Warner</td>\n",
              "      <td>S Dhawan</td>\n",
              "      <td>TS Mills</td>\n",
              "      <td>0</td>\n",
              "      <td>0</td>\n",
              "      <td>0</td>\n",
              "      <td>0</td>\n",
              "      <td>0</td>\n",
              "      <td>0</td>\n",
              "      <td>0</td>\n",
              "      <td>0</td>\n",
              "      <td>0</td>\n",
              "      <td>NaN</td>\n",
              "      <td>NaN</td>\n",
              "      <td>NaN</td>\n",
              "    </tr>\n",
              "    <tr>\n",
              "      <th>4</th>\n",
              "      <td>1</td>\n",
              "      <td>1</td>\n",
              "      <td>Sunrisers Hyderabad</td>\n",
              "      <td>Royal Challengers Bangalore</td>\n",
              "      <td>1</td>\n",
              "      <td>5</td>\n",
              "      <td>DA Warner</td>\n",
              "      <td>S Dhawan</td>\n",
              "      <td>TS Mills</td>\n",
              "      <td>0</td>\n",
              "      <td>2</td>\n",
              "      <td>0</td>\n",
              "      <td>0</td>\n",
              "      <td>0</td>\n",
              "      <td>0</td>\n",
              "      <td>0</td>\n",
              "      <td>2</td>\n",
              "      <td>2</td>\n",
              "      <td>NaN</td>\n",
              "      <td>NaN</td>\n",
              "      <td>NaN</td>\n",
              "    </tr>\n",
              "  </tbody>\n",
              "</table>\n",
              "</div>"
            ],
            "text/plain": [
              "   match_id  inning  ... dismissal_kind fielder\n",
              "0         1       1  ...            NaN     NaN\n",
              "1         1       1  ...            NaN     NaN\n",
              "2         1       1  ...            NaN     NaN\n",
              "3         1       1  ...            NaN     NaN\n",
              "4         1       1  ...            NaN     NaN\n",
              "\n",
              "[5 rows x 21 columns]"
            ]
          },
          "metadata": {
            "tags": []
          },
          "execution_count": 20
        }
      ]
    },
    {
      "cell_type": "markdown",
      "metadata": {
        "id": "LaV-0N8yao1f"
      },
      "source": [
        "***find the unique bowling teams in the dataset***"
      ]
    },
    {
      "cell_type": "code",
      "metadata": {
        "colab": {
          "base_uri": "https://localhost:8080/"
        },
        "id": "j1CWfrd1i4tA",
        "outputId": "3cac8769-8aef-4bc9-c027-a62e7d66172c"
      },
      "source": [
        "df['bowling_team'].unique()"
      ],
      "execution_count": null,
      "outputs": [
        {
          "output_type": "execute_result",
          "data": {
            "text/plain": [
              "array(['Royal Challengers Bangalore', 'Sunrisers Hyderabad',\n",
              "       'Rising Pune Supergiant', 'Mumbai Indians',\n",
              "       'Kolkata Knight Riders', 'Gujarat Lions', 'Kings XI Punjab',\n",
              "       'Delhi Daredevils', 'Chennai Super Kings', 'Rajasthan Royals',\n",
              "       'Deccan Chargers', 'Kochi Tuskers Kerala', 'Pune Warriors',\n",
              "       'Rising Pune Supergiants', 'Delhi Capitals'], dtype=object)"
            ]
          },
          "metadata": {
            "tags": []
          },
          "execution_count": 21
        }
      ]
    },
    {
      "cell_type": "markdown",
      "metadata": {
        "id": "s5IqZsovi7jy"
      },
      "source": [
        "***Replacing the Team Names with their abbreviations***"
      ]
    },
    {
      "cell_type": "code",
      "metadata": {
        "id": "YZmf9w_si_7y"
      },
      "source": [
        "Teams={\r\n",
        "    'Royal Challengers Bangalore':'RCB', \r\n",
        "    'Sunrisers Hyderabad':'SRH',\r\n",
        "       'Rising Pune Supergiant':'RPS',\r\n",
        "    'Mumbai Indians':'MI',\r\n",
        "       'Kolkata Knight Riders':'KKR', \r\n",
        "    'Gujarat Lions':'GL',\r\n",
        "    'Kings XI Punjab':'KXIP',\r\n",
        "       'Delhi Daredevils':'DD',\r\n",
        "    'Chennai Super Kings':'CSK',\r\n",
        "    'Rajasthan Royals':'RR',\r\n",
        "       'Deccan Chargers':'DC',\r\n",
        "    'Kochi Tuskers Kerala':'KTK',\r\n",
        "    'Pune Warriors':'PW',\r\n",
        "       'Rising Pune Supergiants':'RPS'\r\n",
        "}"
      ],
      "execution_count": null,
      "outputs": []
    },
    {
      "cell_type": "markdown",
      "metadata": {
        "id": "NVnoPTEda6P1"
      },
      "source": [
        "***to check the teams1 and teams short names***"
      ]
    },
    {
      "cell_type": "code",
      "metadata": {
        "id": "PWAA8yQZjCDa"
      },
      "source": [
        "df['batting_team']=df['batting_team'].map(Teams)\r\n",
        "df['bowling_team']=df['bowling_team'].map(Teams)"
      ],
      "execution_count": null,
      "outputs": []
    },
    {
      "cell_type": "markdown",
      "metadata": {
        "id": "6jRP8pAPa-qT"
      },
      "source": [
        "***finding the first five rows in dataset***"
      ]
    },
    {
      "cell_type": "code",
      "metadata": {
        "colab": {
          "base_uri": "https://localhost:8080/",
          "height": 309
        },
        "id": "fb9kSK9WjEm5",
        "outputId": "6bfc591a-14b2-4c9e-d3fa-ccc6eeaf58f7"
      },
      "source": [
        "#to find the first row to the dataframe\r\n",
        "df.head()"
      ],
      "execution_count": null,
      "outputs": [
        {
          "output_type": "execute_result",
          "data": {
            "text/html": [
              "<div>\n",
              "<style scoped>\n",
              "    .dataframe tbody tr th:only-of-type {\n",
              "        vertical-align: middle;\n",
              "    }\n",
              "\n",
              "    .dataframe tbody tr th {\n",
              "        vertical-align: top;\n",
              "    }\n",
              "\n",
              "    .dataframe thead th {\n",
              "        text-align: right;\n",
              "    }\n",
              "</style>\n",
              "<table border=\"1\" class=\"dataframe\">\n",
              "  <thead>\n",
              "    <tr style=\"text-align: right;\">\n",
              "      <th></th>\n",
              "      <th>match_id</th>\n",
              "      <th>inning</th>\n",
              "      <th>batting_team</th>\n",
              "      <th>bowling_team</th>\n",
              "      <th>over</th>\n",
              "      <th>ball</th>\n",
              "      <th>batsman</th>\n",
              "      <th>non_striker</th>\n",
              "      <th>bowler</th>\n",
              "      <th>is_super_over</th>\n",
              "      <th>wide_runs</th>\n",
              "      <th>bye_runs</th>\n",
              "      <th>legbye_runs</th>\n",
              "      <th>noball_runs</th>\n",
              "      <th>penalty_runs</th>\n",
              "      <th>batsman_runs</th>\n",
              "      <th>extra_runs</th>\n",
              "      <th>total_runs</th>\n",
              "      <th>player_dismissed</th>\n",
              "      <th>dismissal_kind</th>\n",
              "      <th>fielder</th>\n",
              "    </tr>\n",
              "  </thead>\n",
              "  <tbody>\n",
              "    <tr>\n",
              "      <th>0</th>\n",
              "      <td>1</td>\n",
              "      <td>1</td>\n",
              "      <td>SRH</td>\n",
              "      <td>RCB</td>\n",
              "      <td>1</td>\n",
              "      <td>1</td>\n",
              "      <td>DA Warner</td>\n",
              "      <td>S Dhawan</td>\n",
              "      <td>TS Mills</td>\n",
              "      <td>0</td>\n",
              "      <td>0</td>\n",
              "      <td>0</td>\n",
              "      <td>0</td>\n",
              "      <td>0</td>\n",
              "      <td>0</td>\n",
              "      <td>0</td>\n",
              "      <td>0</td>\n",
              "      <td>0</td>\n",
              "      <td>NaN</td>\n",
              "      <td>NaN</td>\n",
              "      <td>NaN</td>\n",
              "    </tr>\n",
              "    <tr>\n",
              "      <th>1</th>\n",
              "      <td>1</td>\n",
              "      <td>1</td>\n",
              "      <td>SRH</td>\n",
              "      <td>RCB</td>\n",
              "      <td>1</td>\n",
              "      <td>2</td>\n",
              "      <td>DA Warner</td>\n",
              "      <td>S Dhawan</td>\n",
              "      <td>TS Mills</td>\n",
              "      <td>0</td>\n",
              "      <td>0</td>\n",
              "      <td>0</td>\n",
              "      <td>0</td>\n",
              "      <td>0</td>\n",
              "      <td>0</td>\n",
              "      <td>0</td>\n",
              "      <td>0</td>\n",
              "      <td>0</td>\n",
              "      <td>NaN</td>\n",
              "      <td>NaN</td>\n",
              "      <td>NaN</td>\n",
              "    </tr>\n",
              "    <tr>\n",
              "      <th>2</th>\n",
              "      <td>1</td>\n",
              "      <td>1</td>\n",
              "      <td>SRH</td>\n",
              "      <td>RCB</td>\n",
              "      <td>1</td>\n",
              "      <td>3</td>\n",
              "      <td>DA Warner</td>\n",
              "      <td>S Dhawan</td>\n",
              "      <td>TS Mills</td>\n",
              "      <td>0</td>\n",
              "      <td>0</td>\n",
              "      <td>0</td>\n",
              "      <td>0</td>\n",
              "      <td>0</td>\n",
              "      <td>0</td>\n",
              "      <td>4</td>\n",
              "      <td>0</td>\n",
              "      <td>4</td>\n",
              "      <td>NaN</td>\n",
              "      <td>NaN</td>\n",
              "      <td>NaN</td>\n",
              "    </tr>\n",
              "    <tr>\n",
              "      <th>3</th>\n",
              "      <td>1</td>\n",
              "      <td>1</td>\n",
              "      <td>SRH</td>\n",
              "      <td>RCB</td>\n",
              "      <td>1</td>\n",
              "      <td>4</td>\n",
              "      <td>DA Warner</td>\n",
              "      <td>S Dhawan</td>\n",
              "      <td>TS Mills</td>\n",
              "      <td>0</td>\n",
              "      <td>0</td>\n",
              "      <td>0</td>\n",
              "      <td>0</td>\n",
              "      <td>0</td>\n",
              "      <td>0</td>\n",
              "      <td>0</td>\n",
              "      <td>0</td>\n",
              "      <td>0</td>\n",
              "      <td>NaN</td>\n",
              "      <td>NaN</td>\n",
              "      <td>NaN</td>\n",
              "    </tr>\n",
              "    <tr>\n",
              "      <th>4</th>\n",
              "      <td>1</td>\n",
              "      <td>1</td>\n",
              "      <td>SRH</td>\n",
              "      <td>RCB</td>\n",
              "      <td>1</td>\n",
              "      <td>5</td>\n",
              "      <td>DA Warner</td>\n",
              "      <td>S Dhawan</td>\n",
              "      <td>TS Mills</td>\n",
              "      <td>0</td>\n",
              "      <td>2</td>\n",
              "      <td>0</td>\n",
              "      <td>0</td>\n",
              "      <td>0</td>\n",
              "      <td>0</td>\n",
              "      <td>0</td>\n",
              "      <td>2</td>\n",
              "      <td>2</td>\n",
              "      <td>NaN</td>\n",
              "      <td>NaN</td>\n",
              "      <td>NaN</td>\n",
              "    </tr>\n",
              "  </tbody>\n",
              "</table>\n",
              "</div>"
            ],
            "text/plain": [
              "   match_id  inning batting_team  ... player_dismissed  dismissal_kind  fielder\n",
              "0         1       1          SRH  ...              NaN             NaN      NaN\n",
              "1         1       1          SRH  ...              NaN             NaN      NaN\n",
              "2         1       1          SRH  ...              NaN             NaN      NaN\n",
              "3         1       1          SRH  ...              NaN             NaN      NaN\n",
              "4         1       1          SRH  ...              NaN             NaN      NaN\n",
              "\n",
              "[5 rows x 21 columns]"
            ]
          },
          "metadata": {
            "tags": []
          },
          "execution_count": 26
        }
      ]
    },
    {
      "cell_type": "markdown",
      "metadata": {
        "id": "hmw1f4JQbFPQ"
      },
      "source": [
        "***find the columns or attributes or fileds name in the dataset***"
      ]
    },
    {
      "cell_type": "code",
      "metadata": {
        "colab": {
          "base_uri": "https://localhost:8080/"
        },
        "id": "rreqd7WujIdf",
        "outputId": "83abac02-f9c7-4f74-d5ea-15297ccf3877"
      },
      "source": [
        "df.columns"
      ],
      "execution_count": null,
      "outputs": [
        {
          "output_type": "execute_result",
          "data": {
            "text/plain": [
              "Index(['match_id', 'inning', 'batting_team', 'bowling_team', 'over', 'ball',\n",
              "       'batsman', 'non_striker', 'bowler', 'is_super_over', 'wide_runs',\n",
              "       'bye_runs', 'legbye_runs', 'noball_runs', 'penalty_runs',\n",
              "       'batsman_runs', 'extra_runs', 'total_runs', 'player_dismissed',\n",
              "       'dismissal_kind', 'fielder'],\n",
              "      dtype='object')"
            ]
          },
          "metadata": {
            "tags": []
          },
          "execution_count": 27
        }
      ]
    },
    {
      "cell_type": "markdown",
      "metadata": {
        "id": "deaTA-aejN4e"
      },
      "source": [
        "***Score Distribution For Teams by Innings***"
      ]
    },
    {
      "cell_type": "code",
      "metadata": {
        "id": "2wn_weqgjLWc"
      },
      "source": [
        "runs=df.groupby(['match_id','inning','batting_team'])[['total_runs']].sum().reset_index()\r\n",
        "runs.drop('match_id',axis=1,inplace=True)"
      ],
      "execution_count": null,
      "outputs": []
    },
    {
      "cell_type": "code",
      "metadata": {
        "colab": {
          "base_uri": "https://localhost:8080/",
          "height": 204
        },
        "id": "iZ9au3NojTyE",
        "outputId": "d340ce5d-d670-425d-cdc1-09bec08206f9"
      },
      "source": [
        "runs.head()"
      ],
      "execution_count": null,
      "outputs": [
        {
          "output_type": "execute_result",
          "data": {
            "text/html": [
              "<div>\n",
              "<style scoped>\n",
              "    .dataframe tbody tr th:only-of-type {\n",
              "        vertical-align: middle;\n",
              "    }\n",
              "\n",
              "    .dataframe tbody tr th {\n",
              "        vertical-align: top;\n",
              "    }\n",
              "\n",
              "    .dataframe thead th {\n",
              "        text-align: right;\n",
              "    }\n",
              "</style>\n",
              "<table border=\"1\" class=\"dataframe\">\n",
              "  <thead>\n",
              "    <tr style=\"text-align: right;\">\n",
              "      <th></th>\n",
              "      <th>inning</th>\n",
              "      <th>batting_team</th>\n",
              "      <th>total_runs</th>\n",
              "    </tr>\n",
              "  </thead>\n",
              "  <tbody>\n",
              "    <tr>\n",
              "      <th>0</th>\n",
              "      <td>1</td>\n",
              "      <td>SRH</td>\n",
              "      <td>207</td>\n",
              "    </tr>\n",
              "    <tr>\n",
              "      <th>1</th>\n",
              "      <td>2</td>\n",
              "      <td>RCB</td>\n",
              "      <td>172</td>\n",
              "    </tr>\n",
              "    <tr>\n",
              "      <th>2</th>\n",
              "      <td>1</td>\n",
              "      <td>MI</td>\n",
              "      <td>184</td>\n",
              "    </tr>\n",
              "    <tr>\n",
              "      <th>3</th>\n",
              "      <td>2</td>\n",
              "      <td>RPS</td>\n",
              "      <td>187</td>\n",
              "    </tr>\n",
              "    <tr>\n",
              "      <th>4</th>\n",
              "      <td>1</td>\n",
              "      <td>GL</td>\n",
              "      <td>183</td>\n",
              "    </tr>\n",
              "  </tbody>\n",
              "</table>\n",
              "</div>"
            ],
            "text/plain": [
              "   inning batting_team  total_runs\n",
              "0       1          SRH         207\n",
              "1       2          RCB         172\n",
              "2       1           MI         184\n",
              "3       2          RPS         187\n",
              "4       1           GL         183"
            ]
          },
          "metadata": {
            "tags": []
          },
          "execution_count": 29
        }
      ]
    },
    {
      "cell_type": "code",
      "metadata": {
        "id": "M9trLSUKjVp7"
      },
      "source": [
        "inning1=runs[runs['inning']==1]\r\n",
        "inning2=runs[runs['inning']==2]"
      ],
      "execution_count": null,
      "outputs": []
    },
    {
      "cell_type": "markdown",
      "metadata": {
        "id": "Cv-c6NbHbS9Z"
      },
      "source": [
        "***Visualization of the innings batting teams with respect of  total runs as aslo inning1***"
      ]
    },
    {
      "cell_type": "code",
      "metadata": {
        "colab": {
          "base_uri": "https://localhost:8080/",
          "height": 297
        },
        "id": "-PYcPW1TjYou",
        "outputId": "974ddee1-6348-4441-bf4e-7b4933ddb1ba"
      },
      "source": [
        "sns.boxplot(x='batting_team',y='total_runs',data=inning1)"
      ],
      "execution_count": null,
      "outputs": [
        {
          "output_type": "execute_result",
          "data": {
            "text/plain": [
              "<matplotlib.axes._subplots.AxesSubplot at 0x7ff76c9f4550>"
            ]
          },
          "metadata": {
            "tags": []
          },
          "execution_count": 31
        },
        {
          "output_type": "display_data",
          "data": {
            "image/png": "[encoded data removed]",
            "text/plain": [
              "<Figure size 432x288 with 1 Axes>"
            ]
          },
          "metadata": {
            "tags": [],
            "needs_background": "light"
          }
        }
      ]
    },
    {
      "cell_type": "markdown",
      "metadata": {
        "id": "duBPp1BTjehk"
      },
      "source": [
        "***According to this plot, the batting by CSK & RCB seems best.***"
      ]
    },
    {
      "cell_type": "markdown",
      "metadata": {
        "id": "pLhw9oRkbjqp"
      },
      "source": [
        "***Visualization of the innings batting teams with respect of  total runs as aslo inning1***"
      ]
    },
    {
      "cell_type": "code",
      "metadata": {
        "colab": {
          "base_uri": "https://localhost:8080/",
          "height": 297
        },
        "id": "R8V69Hbrjbf3",
        "outputId": "049a9e39-bdce-48ce-f26a-d2f6c2d1c17b"
      },
      "source": [
        "sns.boxplot(x='batting_team',y='total_runs',data=inning2)"
      ],
      "execution_count": null,
      "outputs": [
        {
          "output_type": "execute_result",
          "data": {
            "text/plain": [
              "<matplotlib.axes._subplots.AxesSubplot at 0x7ff76404e650>"
            ]
          },
          "metadata": {
            "tags": []
          },
          "execution_count": 32
        },
        {
          "output_type": "display_data",
          "data": {
            "image/png": "[encoded data removed]",
            "text/plain": [
              "<Figure size 432x288 with 1 Axes>"
            ]
          },
          "metadata": {
            "tags": [],
            "needs_background": "light"
          }
        }
      ]
    },
    {
      "cell_type": "markdown",
      "metadata": {
        "id": "aMY9p4FBjpy5"
      },
      "source": [
        "***how many times teams scores more than 200***"
      ]
    },
    {
      "cell_type": "code",
      "metadata": {
        "colab": {
          "base_uri": "https://localhost:8080/",
          "height": 419
        },
        "id": "jJVFnN6ljwAx",
        "outputId": "8b45c44e-018e-4ceb-a5da-e7aae22bcc0d"
      },
      "source": [
        "high_scores=df.groupby(['match_id', 'inning','batting_team','bowling_team'])['total_runs'].sum().reset_index() \r\n",
        "high_scores"
      ],
      "execution_count": null,
      "outputs": [
        {
          "output_type": "execute_result",
          "data": {
            "text/html": [
              "<div>\n",
              "<style scoped>\n",
              "    .dataframe tbody tr th:only-of-type {\n",
              "        vertical-align: middle;\n",
              "    }\n",
              "\n",
              "    .dataframe tbody tr th {\n",
              "        vertical-align: top;\n",
              "    }\n",
              "\n",
              "    .dataframe thead th {\n",
              "        text-align: right;\n",
              "    }\n",
              "</style>\n",
              "<table border=\"1\" class=\"dataframe\">\n",
              "  <thead>\n",
              "    <tr style=\"text-align: right;\">\n",
              "      <th></th>\n",
              "      <th>match_id</th>\n",
              "      <th>inning</th>\n",
              "      <th>batting_team</th>\n",
              "      <th>bowling_team</th>\n",
              "      <th>total_runs</th>\n",
              "    </tr>\n",
              "  </thead>\n",
              "  <tbody>\n",
              "    <tr>\n",
              "      <th>0</th>\n",
              "      <td>1</td>\n",
              "      <td>1</td>\n",
              "      <td>SRH</td>\n",
              "      <td>RCB</td>\n",
              "      <td>207</td>\n",
              "    </tr>\n",
              "    <tr>\n",
              "      <th>1</th>\n",
              "      <td>1</td>\n",
              "      <td>2</td>\n",
              "      <td>RCB</td>\n",
              "      <td>SRH</td>\n",
              "      <td>172</td>\n",
              "    </tr>\n",
              "    <tr>\n",
              "      <th>2</th>\n",
              "      <td>2</td>\n",
              "      <td>1</td>\n",
              "      <td>MI</td>\n",
              "      <td>RPS</td>\n",
              "      <td>184</td>\n",
              "    </tr>\n",
              "    <tr>\n",
              "      <th>3</th>\n",
              "      <td>2</td>\n",
              "      <td>2</td>\n",
              "      <td>RPS</td>\n",
              "      <td>MI</td>\n",
              "      <td>187</td>\n",
              "    </tr>\n",
              "    <tr>\n",
              "      <th>4</th>\n",
              "      <td>3</td>\n",
              "      <td>1</td>\n",
              "      <td>GL</td>\n",
              "      <td>KKR</td>\n",
              "      <td>183</td>\n",
              "    </tr>\n",
              "    <tr>\n",
              "      <th>...</th>\n",
              "      <td>...</td>\n",
              "      <td>...</td>\n",
              "      <td>...</td>\n",
              "      <td>...</td>\n",
              "      <td>...</td>\n",
              "    </tr>\n",
              "    <tr>\n",
              "      <th>1489</th>\n",
              "      <td>11347</td>\n",
              "      <td>2</td>\n",
              "      <td>MI</td>\n",
              "      <td>KKR</td>\n",
              "      <td>137</td>\n",
              "    </tr>\n",
              "    <tr>\n",
              "      <th>1490</th>\n",
              "      <td>11412</td>\n",
              "      <td>1</td>\n",
              "      <td>CSK</td>\n",
              "      <td>MI</td>\n",
              "      <td>136</td>\n",
              "    </tr>\n",
              "    <tr>\n",
              "      <th>1491</th>\n",
              "      <td>11412</td>\n",
              "      <td>2</td>\n",
              "      <td>MI</td>\n",
              "      <td>CSK</td>\n",
              "      <td>140</td>\n",
              "    </tr>\n",
              "    <tr>\n",
              "      <th>1492</th>\n",
              "      <td>11415</td>\n",
              "      <td>1</td>\n",
              "      <td>MI</td>\n",
              "      <td>CSK</td>\n",
              "      <td>152</td>\n",
              "    </tr>\n",
              "    <tr>\n",
              "      <th>1493</th>\n",
              "      <td>11415</td>\n",
              "      <td>2</td>\n",
              "      <td>CSK</td>\n",
              "      <td>MI</td>\n",
              "      <td>157</td>\n",
              "    </tr>\n",
              "  </tbody>\n",
              "</table>\n",
              "<p>1494 rows × 5 columns</p>\n",
              "</div>"
            ],
            "text/plain": [
              "      match_id  inning batting_team bowling_team  total_runs\n",
              "0            1       1          SRH          RCB         207\n",
              "1            1       2          RCB          SRH         172\n",
              "2            2       1           MI          RPS         184\n",
              "3            2       2          RPS           MI         187\n",
              "4            3       1           GL          KKR         183\n",
              "...        ...     ...          ...          ...         ...\n",
              "1489     11347       2           MI          KKR         137\n",
              "1490     11412       1          CSK           MI         136\n",
              "1491     11412       2           MI          CSK         140\n",
              "1492     11415       1           MI          CSK         152\n",
              "1493     11415       2          CSK           MI         157\n",
              "\n",
              "[1494 rows x 5 columns]"
            ]
          },
          "metadata": {
            "tags": []
          },
          "execution_count": 33
        }
      ]
    },
    {
      "cell_type": "markdown",
      "metadata": {
        "id": "KUn_mDTZbn9S"
      },
      "source": [
        "***find the team name which total runs is above then 200***"
      ]
    },
    {
      "cell_type": "code",
      "metadata": {
        "colab": {
          "base_uri": "https://localhost:8080/",
          "height": 419
        },
        "id": "6MkpsCd_jyro",
        "outputId": "e18072f2-4d29-4f33-85d5-45504d5d29b7"
      },
      "source": [
        "score_200=high_scores[high_scores['total_runs']>=200]\r\n",
        "score_200"
      ],
      "execution_count": null,
      "outputs": [
        {
          "output_type": "execute_result",
          "data": {
            "text/html": [
              "<div>\n",
              "<style scoped>\n",
              "    .dataframe tbody tr th:only-of-type {\n",
              "        vertical-align: middle;\n",
              "    }\n",
              "\n",
              "    .dataframe tbody tr th {\n",
              "        vertical-align: top;\n",
              "    }\n",
              "\n",
              "    .dataframe thead th {\n",
              "        text-align: right;\n",
              "    }\n",
              "</style>\n",
              "<table border=\"1\" class=\"dataframe\">\n",
              "  <thead>\n",
              "    <tr style=\"text-align: right;\">\n",
              "      <th></th>\n",
              "      <th>match_id</th>\n",
              "      <th>inning</th>\n",
              "      <th>batting_team</th>\n",
              "      <th>bowling_team</th>\n",
              "      <th>total_runs</th>\n",
              "    </tr>\n",
              "  </thead>\n",
              "  <tbody>\n",
              "    <tr>\n",
              "      <th>0</th>\n",
              "      <td>1</td>\n",
              "      <td>1</td>\n",
              "      <td>SRH</td>\n",
              "      <td>RCB</td>\n",
              "      <td>207</td>\n",
              "    </tr>\n",
              "    <tr>\n",
              "      <th>16</th>\n",
              "      <td>9</td>\n",
              "      <td>1</td>\n",
              "      <td>DD</td>\n",
              "      <td>RPS</td>\n",
              "      <td>205</td>\n",
              "    </tr>\n",
              "    <tr>\n",
              "      <th>38</th>\n",
              "      <td>20</td>\n",
              "      <td>1</td>\n",
              "      <td>RCB</td>\n",
              "      <td>GL</td>\n",
              "      <td>213</td>\n",
              "    </tr>\n",
              "    <tr>\n",
              "      <th>62</th>\n",
              "      <td>32</td>\n",
              "      <td>1</td>\n",
              "      <td>SRH</td>\n",
              "      <td>KXIP</td>\n",
              "      <td>207</td>\n",
              "    </tr>\n",
              "    <tr>\n",
              "      <th>72</th>\n",
              "      <td>36</td>\n",
              "      <td>1</td>\n",
              "      <td>SRH</td>\n",
              "      <td>KKR</td>\n",
              "      <td>209</td>\n",
              "    </tr>\n",
              "    <tr>\n",
              "      <th>...</th>\n",
              "      <td>...</td>\n",
              "      <td>...</td>\n",
              "      <td>...</td>\n",
              "      <td>...</td>\n",
              "      <td>...</td>\n",
              "    </tr>\n",
              "    <tr>\n",
              "      <th>1455</th>\n",
              "      <td>11326</td>\n",
              "      <td>2</td>\n",
              "      <td>KKR</td>\n",
              "      <td>RCB</td>\n",
              "      <td>219</td>\n",
              "    </tr>\n",
              "    <tr>\n",
              "      <th>1464</th>\n",
              "      <td>11333</td>\n",
              "      <td>1</td>\n",
              "      <td>RCB</td>\n",
              "      <td>KXIP</td>\n",
              "      <td>213</td>\n",
              "    </tr>\n",
              "    <tr>\n",
              "      <th>1472</th>\n",
              "      <td>11338</td>\n",
              "      <td>1</td>\n",
              "      <td>KKR</td>\n",
              "      <td>MI</td>\n",
              "      <td>241</td>\n",
              "    </tr>\n",
              "    <tr>\n",
              "      <th>1473</th>\n",
              "      <td>11338</td>\n",
              "      <td>2</td>\n",
              "      <td>MI</td>\n",
              "      <td>KKR</td>\n",
              "      <td>204</td>\n",
              "    </tr>\n",
              "    <tr>\n",
              "      <th>1474</th>\n",
              "      <td>11339</td>\n",
              "      <td>1</td>\n",
              "      <td>SRH</td>\n",
              "      <td>KXIP</td>\n",
              "      <td>232</td>\n",
              "    </tr>\n",
              "  </tbody>\n",
              "</table>\n",
              "<p>104 rows × 5 columns</p>\n",
              "</div>"
            ],
            "text/plain": [
              "      match_id  inning batting_team bowling_team  total_runs\n",
              "0            1       1          SRH          RCB         207\n",
              "16           9       1           DD          RPS         205\n",
              "38          20       1          RCB           GL         213\n",
              "62          32       1          SRH         KXIP         207\n",
              "72          36       1          SRH          KKR         209\n",
              "...        ...     ...          ...          ...         ...\n",
              "1455     11326       2          KKR          RCB         219\n",
              "1464     11333       1          RCB         KXIP         213\n",
              "1472     11338       1          KKR           MI         241\n",
              "1473     11338       2           MI          KKR         204\n",
              "1474     11339       1          SRH         KXIP         232\n",
              "\n",
              "[104 rows x 5 columns]"
            ]
          },
          "metadata": {
            "tags": []
          },
          "execution_count": 34
        }
      ]
    },
    {
      "cell_type": "markdown",
      "metadata": {
        "id": "aMKDN1N2b4K2"
      },
      "source": [
        "***Visualization of the batting team with there number of scores***"
      ]
    },
    {
      "cell_type": "code",
      "metadata": {
        "colab": {
          "base_uri": "https://localhost:8080/",
          "height": 460
        },
        "id": "xz-u94H3j1T3",
        "outputId": "593f54b2-23ee-4143-d15f-e8e6e29d9472"
      },
      "source": [
        "plt.figure(figsize=(10,6))\r\n",
        "sns.countplot(score_200['batting_team'])"
      ],
      "execution_count": null,
      "outputs": [
        {
          "output_type": "stream",
          "text": [
            "/usr/local/lib/python3.7/dist-packages/seaborn/_decorators.py:43: FutureWarning: Pass the following variable as a keyword arg: x. From version 0.12, the only valid positional argument will be `data`, and passing other arguments without an explicit keyword will result in an error or misinterpretation.\n",
            "  FutureWarning\n"
          ],
          "name": "stderr"
        },
        {
          "output_type": "execute_result",
          "data": {
            "text/plain": [
              "<matplotlib.axes._subplots.AxesSubplot at 0x7ff76d803810>"
            ]
          },
          "metadata": {
            "tags": []
          },
          "execution_count": 35
        },
        {
          "output_type": "display_data",
          "data": {
            "image/png": "[encoded data removed]",
            "text/plain": [
              "<Figure size 720x432 with 1 Axes>"
            ]
          },
          "metadata": {
            "tags": [],
            "needs_background": "light"
          }
        }
      ]
    },
    {
      "cell_type": "markdown",
      "metadata": {
        "id": "PW8Q9gyPcJ70"
      },
      "source": [
        "***Visualization of the bowling team with there number of scores***"
      ]
    },
    {
      "cell_type": "code",
      "metadata": {
        "colab": {
          "base_uri": "https://localhost:8080/",
          "height": 351
        },
        "id": "5rbCuR1wj4GG",
        "outputId": "49b2c7d3-1f6f-474d-c5d2-795b10420466"
      },
      "source": [
        "sns.countplot(score_200['bowling_team'])"
      ],
      "execution_count": null,
      "outputs": [
        {
          "output_type": "stream",
          "text": [
            "/usr/local/lib/python3.7/dist-packages/seaborn/_decorators.py:43: FutureWarning: Pass the following variable as a keyword arg: x. From version 0.12, the only valid positional argument will be `data`, and passing other arguments without an explicit keyword will result in an error or misinterpretation.\n",
            "  FutureWarning\n"
          ],
          "name": "stderr"
        },
        {
          "output_type": "execute_result",
          "data": {
            "text/plain": [
              "<matplotlib.axes._subplots.AxesSubplot at 0x7ff763eb5d50>"
            ]
          },
          "metadata": {
            "tags": []
          },
          "execution_count": 36
        },
        {
          "output_type": "display_data",
          "data": {
            "image/png": "[encoded data removed]",
            "text/plain": [
              "<Figure size 432x288 with 1 Axes>"
            ]
          },
          "metadata": {
            "tags": [],
            "needs_background": "light"
          }
        }
      ]
    },
    {
      "cell_type": "markdown",
      "metadata": {
        "id": "8BnW-x71j_HI"
      },
      "source": [
        "***Batsman Comparison***"
      ]
    },
    {
      "cell_type": "code",
      "metadata": {
        "colab": {
          "base_uri": "https://localhost:8080/",
          "height": 419
        },
        "id": "JANmzJwikDTc",
        "outputId": "182aabeb-83f4-4dbb-8232-8e9ac7acfd5d"
      },
      "source": [
        "balls=df.groupby(['batsman'])['ball'].count().reset_index()\r\n",
        "balls"
      ],
      "execution_count": null,
      "outputs": [
        {
          "output_type": "execute_result",
          "data": {
            "text/html": [
              "<div>\n",
              "<style scoped>\n",
              "    .dataframe tbody tr th:only-of-type {\n",
              "        vertical-align: middle;\n",
              "    }\n",
              "\n",
              "    .dataframe tbody tr th {\n",
              "        vertical-align: top;\n",
              "    }\n",
              "\n",
              "    .dataframe thead th {\n",
              "        text-align: right;\n",
              "    }\n",
              "</style>\n",
              "<table border=\"1\" class=\"dataframe\">\n",
              "  <thead>\n",
              "    <tr style=\"text-align: right;\">\n",
              "      <th></th>\n",
              "      <th>batsman</th>\n",
              "      <th>ball</th>\n",
              "    </tr>\n",
              "  </thead>\n",
              "  <tbody>\n",
              "    <tr>\n",
              "      <th>0</th>\n",
              "      <td>A Ashish Reddy</td>\n",
              "      <td>196</td>\n",
              "    </tr>\n",
              "    <tr>\n",
              "      <th>1</th>\n",
              "      <td>A Chandila</td>\n",
              "      <td>7</td>\n",
              "    </tr>\n",
              "    <tr>\n",
              "      <th>2</th>\n",
              "      <td>A Chopra</td>\n",
              "      <td>75</td>\n",
              "    </tr>\n",
              "    <tr>\n",
              "      <th>3</th>\n",
              "      <td>A Choudhary</td>\n",
              "      <td>20</td>\n",
              "    </tr>\n",
              "    <tr>\n",
              "      <th>4</th>\n",
              "      <td>A Dananjaya</td>\n",
              "      <td>5</td>\n",
              "    </tr>\n",
              "    <tr>\n",
              "      <th>...</th>\n",
              "      <td>...</td>\n",
              "      <td>...</td>\n",
              "    </tr>\n",
              "    <tr>\n",
              "      <th>511</th>\n",
              "      <td>YV Takawale</td>\n",
              "      <td>183</td>\n",
              "    </tr>\n",
              "    <tr>\n",
              "      <th>512</th>\n",
              "      <td>Yashpal Singh</td>\n",
              "      <td>67</td>\n",
              "    </tr>\n",
              "    <tr>\n",
              "      <th>513</th>\n",
              "      <td>Younis Khan</td>\n",
              "      <td>7</td>\n",
              "    </tr>\n",
              "    <tr>\n",
              "      <th>514</th>\n",
              "      <td>Yuvraj Singh</td>\n",
              "      <td>2207</td>\n",
              "    </tr>\n",
              "    <tr>\n",
              "      <th>515</th>\n",
              "      <td>Z Khan</td>\n",
              "      <td>141</td>\n",
              "    </tr>\n",
              "  </tbody>\n",
              "</table>\n",
              "<p>516 rows × 2 columns</p>\n",
              "</div>"
            ],
            "text/plain": [
              "            batsman  ball\n",
              "0    A Ashish Reddy   196\n",
              "1        A Chandila     7\n",
              "2          A Chopra    75\n",
              "3       A Choudhary    20\n",
              "4       A Dananjaya     5\n",
              "..              ...   ...\n",
              "511     YV Takawale   183\n",
              "512   Yashpal Singh    67\n",
              "513     Younis Khan     7\n",
              "514    Yuvraj Singh  2207\n",
              "515          Z Khan   141\n",
              "\n",
              "[516 rows x 2 columns]"
            ]
          },
          "metadata": {
            "tags": []
          },
          "execution_count": 37
        }
      ]
    },
    {
      "cell_type": "markdown",
      "metadata": {
        "id": "WqpORZMUcPKq"
      },
      "source": [
        "***find the batsman and the no.of runs ther formed***"
      ]
    },
    {
      "cell_type": "code",
      "metadata": {
        "colab": {
          "base_uri": "https://localhost:8080/",
          "height": 419
        },
        "id": "XpK_wRzfkGfH",
        "outputId": "86d8772a-8dc3-4484-efd9-73263b4dc157"
      },
      "source": [
        "runs=df.groupby(['batsman'])['batsman_runs'].sum().reset_index()\r\n",
        "runs.columns=['batsman','runs']\r\n",
        "runs"
      ],
      "execution_count": null,
      "outputs": [
        {
          "output_type": "execute_result",
          "data": {
            "text/html": [
              "<div>\n",
              "<style scoped>\n",
              "    .dataframe tbody tr th:only-of-type {\n",
              "        vertical-align: middle;\n",
              "    }\n",
              "\n",
              "    .dataframe tbody tr th {\n",
              "        vertical-align: top;\n",
              "    }\n",
              "\n",
              "    .dataframe thead th {\n",
              "        text-align: right;\n",
              "    }\n",
              "</style>\n",
              "<table border=\"1\" class=\"dataframe\">\n",
              "  <thead>\n",
              "    <tr style=\"text-align: right;\">\n",
              "      <th></th>\n",
              "      <th>batsman</th>\n",
              "      <th>runs</th>\n",
              "    </tr>\n",
              "  </thead>\n",
              "  <tbody>\n",
              "    <tr>\n",
              "      <th>0</th>\n",
              "      <td>A Ashish Reddy</td>\n",
              "      <td>280</td>\n",
              "    </tr>\n",
              "    <tr>\n",
              "      <th>1</th>\n",
              "      <td>A Chandila</td>\n",
              "      <td>4</td>\n",
              "    </tr>\n",
              "    <tr>\n",
              "      <th>2</th>\n",
              "      <td>A Chopra</td>\n",
              "      <td>53</td>\n",
              "    </tr>\n",
              "    <tr>\n",
              "      <th>3</th>\n",
              "      <td>A Choudhary</td>\n",
              "      <td>25</td>\n",
              "    </tr>\n",
              "    <tr>\n",
              "      <th>4</th>\n",
              "      <td>A Dananjaya</td>\n",
              "      <td>4</td>\n",
              "    </tr>\n",
              "    <tr>\n",
              "      <th>...</th>\n",
              "      <td>...</td>\n",
              "      <td>...</td>\n",
              "    </tr>\n",
              "    <tr>\n",
              "      <th>511</th>\n",
              "      <td>YV Takawale</td>\n",
              "      <td>192</td>\n",
              "    </tr>\n",
              "    <tr>\n",
              "      <th>512</th>\n",
              "      <td>Yashpal Singh</td>\n",
              "      <td>47</td>\n",
              "    </tr>\n",
              "    <tr>\n",
              "      <th>513</th>\n",
              "      <td>Younis Khan</td>\n",
              "      <td>3</td>\n",
              "    </tr>\n",
              "    <tr>\n",
              "      <th>514</th>\n",
              "      <td>Yuvraj Singh</td>\n",
              "      <td>2765</td>\n",
              "    </tr>\n",
              "    <tr>\n",
              "      <th>515</th>\n",
              "      <td>Z Khan</td>\n",
              "      <td>117</td>\n",
              "    </tr>\n",
              "  </tbody>\n",
              "</table>\n",
              "<p>516 rows × 2 columns</p>\n",
              "</div>"
            ],
            "text/plain": [
              "            batsman  runs\n",
              "0    A Ashish Reddy   280\n",
              "1        A Chandila     4\n",
              "2          A Chopra    53\n",
              "3       A Choudhary    25\n",
              "4       A Dananjaya     4\n",
              "..              ...   ...\n",
              "511     YV Takawale   192\n",
              "512   Yashpal Singh    47\n",
              "513     Younis Khan     3\n",
              "514    Yuvraj Singh  2765\n",
              "515          Z Khan   117\n",
              "\n",
              "[516 rows x 2 columns]"
            ]
          },
          "metadata": {
            "tags": []
          },
          "execution_count": 38
        }
      ]
    },
    {
      "cell_type": "markdown",
      "metadata": {
        "id": "KczJyGy3cgNN"
      },
      "source": [
        "***as calculated with the groupby as batmas and batsman runs with agg function***"
      ]
    },
    {
      "cell_type": "code",
      "metadata": {
        "colab": {
          "base_uri": "https://localhost:8080/"
        },
        "id": "K9_PBXsSkJTe",
        "outputId": "2288f81d-40f9-4f96-cdfe-d52cfe916b8e"
      },
      "source": [
        "df.groupby(['batsman'])['batsman_runs'].agg(sum)"
      ],
      "execution_count": null,
      "outputs": [
        {
          "output_type": "execute_result",
          "data": {
            "text/plain": [
              "batsman\n",
              "A Ashish Reddy     280\n",
              "A Chandila           4\n",
              "A Chopra            53\n",
              "A Choudhary         25\n",
              "A Dananjaya          4\n",
              "                  ... \n",
              "YV Takawale        192\n",
              "Yashpal Singh       47\n",
              "Younis Khan          3\n",
              "Yuvraj Singh      2765\n",
              "Z Khan             117\n",
              "Name: batsman_runs, Length: 516, dtype: int64"
            ]
          },
          "metadata": {
            "tags": []
          },
          "execution_count": 39
        }
      ]
    },
    {
      "cell_type": "code",
      "metadata": {
        "id": "JOd0Y0cWkLdj"
      },
      "source": [
        "balls=balls.merge(runs,left_on='batsman',right_on='batsman',how='outer')"
      ],
      "execution_count": null,
      "outputs": []
    },
    {
      "cell_type": "code",
      "metadata": {
        "id": "hvNLg23ukOK4"
      },
      "source": [
        "four=df[df['batsman_runs']==4]"
      ],
      "execution_count": null,
      "outputs": []
    },
    {
      "cell_type": "markdown",
      "metadata": {
        "id": "5h0C3_J-cxpZ"
      },
      "source": [
        "***In this batsman and its no.of 4's in give as***"
      ]
    },
    {
      "cell_type": "code",
      "metadata": {
        "colab": {
          "base_uri": "https://localhost:8080/",
          "height": 419
        },
        "id": "lFzPvWqfkRPI",
        "outputId": "2c6933c7-636d-404d-d7bc-759cffc8aea3"
      },
      "source": [
        "runs_4=four.groupby('batsman')['batsman_runs'].count().reset_index()\r\n",
        "runs_4.columns=['batsman','4s']\r\n",
        "runs_4"
      ],
      "execution_count": null,
      "outputs": [
        {
          "output_type": "execute_result",
          "data": {
            "text/html": [
              "<div>\n",
              "<style scoped>\n",
              "    .dataframe tbody tr th:only-of-type {\n",
              "        vertical-align: middle;\n",
              "    }\n",
              "\n",
              "    .dataframe tbody tr th {\n",
              "        vertical-align: top;\n",
              "    }\n",
              "\n",
              "    .dataframe thead th {\n",
              "        text-align: right;\n",
              "    }\n",
              "</style>\n",
              "<table border=\"1\" class=\"dataframe\">\n",
              "  <thead>\n",
              "    <tr style=\"text-align: right;\">\n",
              "      <th></th>\n",
              "      <th>batsman</th>\n",
              "      <th>4s</th>\n",
              "    </tr>\n",
              "  </thead>\n",
              "  <tbody>\n",
              "    <tr>\n",
              "      <th>0</th>\n",
              "      <td>A Ashish Reddy</td>\n",
              "      <td>16</td>\n",
              "    </tr>\n",
              "    <tr>\n",
              "      <th>1</th>\n",
              "      <td>A Chopra</td>\n",
              "      <td>7</td>\n",
              "    </tr>\n",
              "    <tr>\n",
              "      <th>2</th>\n",
              "      <td>A Choudhary</td>\n",
              "      <td>1</td>\n",
              "    </tr>\n",
              "    <tr>\n",
              "      <th>3</th>\n",
              "      <td>A Flintoff</td>\n",
              "      <td>5</td>\n",
              "    </tr>\n",
              "    <tr>\n",
              "      <th>4</th>\n",
              "      <td>A Hales</td>\n",
              "      <td>13</td>\n",
              "    </tr>\n",
              "    <tr>\n",
              "      <th>...</th>\n",
              "      <td>...</td>\n",
              "      <td>...</td>\n",
              "    </tr>\n",
              "    <tr>\n",
              "      <th>405</th>\n",
              "      <td>YK Pathan</td>\n",
              "      <td>264</td>\n",
              "    </tr>\n",
              "    <tr>\n",
              "      <th>406</th>\n",
              "      <td>YV Takawale</td>\n",
              "      <td>26</td>\n",
              "    </tr>\n",
              "    <tr>\n",
              "      <th>407</th>\n",
              "      <td>Yashpal Singh</td>\n",
              "      <td>5</td>\n",
              "    </tr>\n",
              "    <tr>\n",
              "      <th>408</th>\n",
              "      <td>Yuvraj Singh</td>\n",
              "      <td>218</td>\n",
              "    </tr>\n",
              "    <tr>\n",
              "      <th>409</th>\n",
              "      <td>Z Khan</td>\n",
              "      <td>11</td>\n",
              "    </tr>\n",
              "  </tbody>\n",
              "</table>\n",
              "<p>410 rows × 2 columns</p>\n",
              "</div>"
            ],
            "text/plain": [
              "            batsman   4s\n",
              "0    A Ashish Reddy   16\n",
              "1          A Chopra    7\n",
              "2       A Choudhary    1\n",
              "3        A Flintoff    5\n",
              "4           A Hales   13\n",
              "..              ...  ...\n",
              "405       YK Pathan  264\n",
              "406     YV Takawale   26\n",
              "407   Yashpal Singh    5\n",
              "408    Yuvraj Singh  218\n",
              "409          Z Khan   11\n",
              "\n",
              "[410 rows x 2 columns]"
            ]
          },
          "metadata": {
            "tags": []
          },
          "execution_count": 44
        }
      ]
    },
    {
      "cell_type": "markdown",
      "metadata": {
        "id": "eCh1lpwtdCe3"
      },
      "source": [
        "***In this batsman and its no.of 6's in give as***"
      ]
    },
    {
      "cell_type": "code",
      "metadata": {
        "colab": {
          "base_uri": "https://localhost:8080/",
          "height": 419
        },
        "id": "RM0-7jf8kTpF",
        "outputId": "9c2f2686-a6cf-4757-8b8d-e9d7779d425e"
      },
      "source": [
        "six=df.groupby('batsman')['batsman_runs'].agg(lambda x: (x==6).sum()).reset_index()\r\n",
        "six.columns=['batsman','6s']\r\n",
        "six"
      ],
      "execution_count": null,
      "outputs": [
        {
          "output_type": "execute_result",
          "data": {
            "text/html": [
              "<div>\n",
              "<style scoped>\n",
              "    .dataframe tbody tr th:only-of-type {\n",
              "        vertical-align: middle;\n",
              "    }\n",
              "\n",
              "    .dataframe tbody tr th {\n",
              "        vertical-align: top;\n",
              "    }\n",
              "\n",
              "    .dataframe thead th {\n",
              "        text-align: right;\n",
              "    }\n",
              "</style>\n",
              "<table border=\"1\" class=\"dataframe\">\n",
              "  <thead>\n",
              "    <tr style=\"text-align: right;\">\n",
              "      <th></th>\n",
              "      <th>batsman</th>\n",
              "      <th>6s</th>\n",
              "    </tr>\n",
              "  </thead>\n",
              "  <tbody>\n",
              "    <tr>\n",
              "      <th>0</th>\n",
              "      <td>A Ashish Reddy</td>\n",
              "      <td>15</td>\n",
              "    </tr>\n",
              "    <tr>\n",
              "      <th>1</th>\n",
              "      <td>A Chandila</td>\n",
              "      <td>0</td>\n",
              "    </tr>\n",
              "    <tr>\n",
              "      <th>2</th>\n",
              "      <td>A Chopra</td>\n",
              "      <td>0</td>\n",
              "    </tr>\n",
              "    <tr>\n",
              "      <th>3</th>\n",
              "      <td>A Choudhary</td>\n",
              "      <td>1</td>\n",
              "    </tr>\n",
              "    <tr>\n",
              "      <th>4</th>\n",
              "      <td>A Dananjaya</td>\n",
              "      <td>0</td>\n",
              "    </tr>\n",
              "    <tr>\n",
              "      <th>...</th>\n",
              "      <td>...</td>\n",
              "      <td>...</td>\n",
              "    </tr>\n",
              "    <tr>\n",
              "      <th>511</th>\n",
              "      <td>YV Takawale</td>\n",
              "      <td>3</td>\n",
              "    </tr>\n",
              "    <tr>\n",
              "      <th>512</th>\n",
              "      <td>Yashpal Singh</td>\n",
              "      <td>0</td>\n",
              "    </tr>\n",
              "    <tr>\n",
              "      <th>513</th>\n",
              "      <td>Younis Khan</td>\n",
              "      <td>0</td>\n",
              "    </tr>\n",
              "    <tr>\n",
              "      <th>514</th>\n",
              "      <td>Yuvraj Singh</td>\n",
              "      <td>149</td>\n",
              "    </tr>\n",
              "    <tr>\n",
              "      <th>515</th>\n",
              "      <td>Z Khan</td>\n",
              "      <td>2</td>\n",
              "    </tr>\n",
              "  </tbody>\n",
              "</table>\n",
              "<p>516 rows × 2 columns</p>\n",
              "</div>"
            ],
            "text/plain": [
              "            batsman   6s\n",
              "0    A Ashish Reddy   15\n",
              "1        A Chandila    0\n",
              "2          A Chopra    0\n",
              "3       A Choudhary    1\n",
              "4       A Dananjaya    0\n",
              "..              ...  ...\n",
              "511     YV Takawale    3\n",
              "512   Yashpal Singh    0\n",
              "513     Younis Khan    0\n",
              "514    Yuvraj Singh  149\n",
              "515          Z Khan    2\n",
              "\n",
              "[516 rows x 2 columns]"
            ]
          },
          "metadata": {
            "tags": []
          },
          "execution_count": 45
        }
      ]
    },
    {
      "cell_type": "markdown",
      "metadata": {
        "id": "n9j3MqWfdGvi"
      },
      "source": [
        "***combine all the values as in table of no of 4's and 6's with each batsman name***"
      ]
    },
    {
      "cell_type": "code",
      "metadata": {
        "colab": {
          "base_uri": "https://localhost:8080/",
          "height": 419
        },
        "id": "g8YpJsN1kWfc",
        "outputId": "9a29b152-97e7-4e99-cced-23ff80c108cf"
      },
      "source": [
        "player=pd.concat([runs,balls.iloc[:,1],runs_4.iloc[:,1],six.iloc[:,1]],axis=1)\r\n",
        "player"
      ],
      "execution_count": null,
      "outputs": [
        {
          "output_type": "execute_result",
          "data": {
            "text/html": [
              "<div>\n",
              "<style scoped>\n",
              "    .dataframe tbody tr th:only-of-type {\n",
              "        vertical-align: middle;\n",
              "    }\n",
              "\n",
              "    .dataframe tbody tr th {\n",
              "        vertical-align: top;\n",
              "    }\n",
              "\n",
              "    .dataframe thead th {\n",
              "        text-align: right;\n",
              "    }\n",
              "</style>\n",
              "<table border=\"1\" class=\"dataframe\">\n",
              "  <thead>\n",
              "    <tr style=\"text-align: right;\">\n",
              "      <th></th>\n",
              "      <th>batsman</th>\n",
              "      <th>runs</th>\n",
              "      <th>ball</th>\n",
              "      <th>4s</th>\n",
              "      <th>6s</th>\n",
              "    </tr>\n",
              "  </thead>\n",
              "  <tbody>\n",
              "    <tr>\n",
              "      <th>0</th>\n",
              "      <td>A Ashish Reddy</td>\n",
              "      <td>280</td>\n",
              "      <td>196</td>\n",
              "      <td>16.0</td>\n",
              "      <td>15</td>\n",
              "    </tr>\n",
              "    <tr>\n",
              "      <th>1</th>\n",
              "      <td>A Chandila</td>\n",
              "      <td>4</td>\n",
              "      <td>7</td>\n",
              "      <td>7.0</td>\n",
              "      <td>0</td>\n",
              "    </tr>\n",
              "    <tr>\n",
              "      <th>2</th>\n",
              "      <td>A Chopra</td>\n",
              "      <td>53</td>\n",
              "      <td>75</td>\n",
              "      <td>1.0</td>\n",
              "      <td>0</td>\n",
              "    </tr>\n",
              "    <tr>\n",
              "      <th>3</th>\n",
              "      <td>A Choudhary</td>\n",
              "      <td>25</td>\n",
              "      <td>20</td>\n",
              "      <td>5.0</td>\n",
              "      <td>1</td>\n",
              "    </tr>\n",
              "    <tr>\n",
              "      <th>4</th>\n",
              "      <td>A Dananjaya</td>\n",
              "      <td>4</td>\n",
              "      <td>5</td>\n",
              "      <td>13.0</td>\n",
              "      <td>0</td>\n",
              "    </tr>\n",
              "    <tr>\n",
              "      <th>...</th>\n",
              "      <td>...</td>\n",
              "      <td>...</td>\n",
              "      <td>...</td>\n",
              "      <td>...</td>\n",
              "      <td>...</td>\n",
              "    </tr>\n",
              "    <tr>\n",
              "      <th>511</th>\n",
              "      <td>YV Takawale</td>\n",
              "      <td>192</td>\n",
              "      <td>183</td>\n",
              "      <td>NaN</td>\n",
              "      <td>3</td>\n",
              "    </tr>\n",
              "    <tr>\n",
              "      <th>512</th>\n",
              "      <td>Yashpal Singh</td>\n",
              "      <td>47</td>\n",
              "      <td>67</td>\n",
              "      <td>NaN</td>\n",
              "      <td>0</td>\n",
              "    </tr>\n",
              "    <tr>\n",
              "      <th>513</th>\n",
              "      <td>Younis Khan</td>\n",
              "      <td>3</td>\n",
              "      <td>7</td>\n",
              "      <td>NaN</td>\n",
              "      <td>0</td>\n",
              "    </tr>\n",
              "    <tr>\n",
              "      <th>514</th>\n",
              "      <td>Yuvraj Singh</td>\n",
              "      <td>2765</td>\n",
              "      <td>2207</td>\n",
              "      <td>NaN</td>\n",
              "      <td>149</td>\n",
              "    </tr>\n",
              "    <tr>\n",
              "      <th>515</th>\n",
              "      <td>Z Khan</td>\n",
              "      <td>117</td>\n",
              "      <td>141</td>\n",
              "      <td>NaN</td>\n",
              "      <td>2</td>\n",
              "    </tr>\n",
              "  </tbody>\n",
              "</table>\n",
              "<p>516 rows × 5 columns</p>\n",
              "</div>"
            ],
            "text/plain": [
              "            batsman  runs  ball    4s   6s\n",
              "0    A Ashish Reddy   280   196  16.0   15\n",
              "1        A Chandila     4     7   7.0    0\n",
              "2          A Chopra    53    75   1.0    0\n",
              "3       A Choudhary    25    20   5.0    1\n",
              "4       A Dananjaya     4     5  13.0    0\n",
              "..              ...   ...   ...   ...  ...\n",
              "511     YV Takawale   192   183   NaN    3\n",
              "512   Yashpal Singh    47    67   NaN    0\n",
              "513     Younis Khan     3     7   NaN    0\n",
              "514    Yuvraj Singh  2765  2207   NaN  149\n",
              "515          Z Khan   117   141   NaN    2\n",
              "\n",
              "[516 rows x 5 columns]"
            ]
          },
          "metadata": {
            "tags": []
          },
          "execution_count": 46
        }
      ]
    },
    {
      "cell_type": "markdown",
      "metadata": {
        "id": "InzKoc4OdY5f"
      },
      "source": [
        "***find the calculated the strike rate based on player runs and player ball***"
      ]
    },
    {
      "cell_type": "code",
      "metadata": {
        "colab": {
          "base_uri": "https://localhost:8080/",
          "height": 204
        },
        "id": "yqXcUsVnkZCa",
        "outputId": "a6a7e298-3c89-4d19-f5f5-a62f9211e917"
      },
      "source": [
        "player['strike_rate']=player['runs']/player['ball']\r\n",
        "player.head()"
      ],
      "execution_count": null,
      "outputs": [
        {
          "output_type": "execute_result",
          "data": {
            "text/html": [
              "<div>\n",
              "<style scoped>\n",
              "    .dataframe tbody tr th:only-of-type {\n",
              "        vertical-align: middle;\n",
              "    }\n",
              "\n",
              "    .dataframe tbody tr th {\n",
              "        vertical-align: top;\n",
              "    }\n",
              "\n",
              "    .dataframe thead th {\n",
              "        text-align: right;\n",
              "    }\n",
              "</style>\n",
              "<table border=\"1\" class=\"dataframe\">\n",
              "  <thead>\n",
              "    <tr style=\"text-align: right;\">\n",
              "      <th></th>\n",
              "      <th>batsman</th>\n",
              "      <th>runs</th>\n",
              "      <th>ball</th>\n",
              "      <th>4s</th>\n",
              "      <th>6s</th>\n",
              "      <th>strike_rate</th>\n",
              "    </tr>\n",
              "  </thead>\n",
              "  <tbody>\n",
              "    <tr>\n",
              "      <th>0</th>\n",
              "      <td>A Ashish Reddy</td>\n",
              "      <td>280</td>\n",
              "      <td>196</td>\n",
              "      <td>16.0</td>\n",
              "      <td>15</td>\n",
              "      <td>1.428571</td>\n",
              "    </tr>\n",
              "    <tr>\n",
              "      <th>1</th>\n",
              "      <td>A Chandila</td>\n",
              "      <td>4</td>\n",
              "      <td>7</td>\n",
              "      <td>7.0</td>\n",
              "      <td>0</td>\n",
              "      <td>0.571429</td>\n",
              "    </tr>\n",
              "    <tr>\n",
              "      <th>2</th>\n",
              "      <td>A Chopra</td>\n",
              "      <td>53</td>\n",
              "      <td>75</td>\n",
              "      <td>1.0</td>\n",
              "      <td>0</td>\n",
              "      <td>0.706667</td>\n",
              "    </tr>\n",
              "    <tr>\n",
              "      <th>3</th>\n",
              "      <td>A Choudhary</td>\n",
              "      <td>25</td>\n",
              "      <td>20</td>\n",
              "      <td>5.0</td>\n",
              "      <td>1</td>\n",
              "      <td>1.250000</td>\n",
              "    </tr>\n",
              "    <tr>\n",
              "      <th>4</th>\n",
              "      <td>A Dananjaya</td>\n",
              "      <td>4</td>\n",
              "      <td>5</td>\n",
              "      <td>13.0</td>\n",
              "      <td>0</td>\n",
              "      <td>0.800000</td>\n",
              "    </tr>\n",
              "  </tbody>\n",
              "</table>\n",
              "</div>"
            ],
            "text/plain": [
              "          batsman  runs  ball    4s  6s  strike_rate\n",
              "0  A Ashish Reddy   280   196  16.0  15     1.428571\n",
              "1      A Chandila     4     7   7.0   0     0.571429\n",
              "2        A Chopra    53    75   1.0   0     0.706667\n",
              "3     A Choudhary    25    20   5.0   1     1.250000\n",
              "4     A Dananjaya     4     5  13.0   0     0.800000"
            ]
          },
          "metadata": {
            "tags": []
          },
          "execution_count": 47
        }
      ]
    },
    {
      "cell_type": "markdown",
      "metadata": {
        "id": "U9x5XHTTdmZX"
      },
      "source": [
        "***find the null values in datasets***"
      ]
    },
    {
      "cell_type": "code",
      "metadata": {
        "colab": {
          "base_uri": "https://localhost:8080/"
        },
        "id": "43zwhM6AkbQR",
        "outputId": "63d6f21c-bfcf-472b-cb12-0333098be1ad"
      },
      "source": [
        "player.isna().sum()"
      ],
      "execution_count": null,
      "outputs": [
        {
          "output_type": "execute_result",
          "data": {
            "text/plain": [
              "batsman          0\n",
              "runs             0\n",
              "ball             0\n",
              "4s             106\n",
              "6s               0\n",
              "strike_rate      0\n",
              "dtype: int64"
            ]
          },
          "metadata": {
            "tags": []
          },
          "execution_count": 48
        }
      ]
    },
    {
      "cell_type": "markdown",
      "metadata": {
        "id": "Z2QNWDQedu-T"
      },
      "source": [
        "***find the values in 4's with 0 number in dataset***"
      ]
    },
    {
      "cell_type": "code",
      "metadata": {
        "id": "Nyug0_HIkfU3"
      },
      "source": [
        "player['4s'].fillna(0,inplace=True)"
      ],
      "execution_count": null,
      "outputs": []
    },
    {
      "cell_type": "markdown",
      "metadata": {
        "id": "Vsy_DRKUd2rH"
      },
      "source": [
        "***by using a groupby applying a values below tables***"
      ]
    },
    {
      "cell_type": "code",
      "metadata": {
        "colab": {
          "base_uri": "https://localhost:8080/",
          "height": 419
        },
        "id": "PvZNCh4FkidD",
        "outputId": "b85461e0-626a-4323-98fd-38f2ae426180"
      },
      "source": [
        "grp=df.groupby(['match_id','batsman','batting_team'])['batsman_runs'].sum().reset_index()\r\n",
        "grp"
      ],
      "execution_count": null,
      "outputs": [
        {
          "output_type": "execute_result",
          "data": {
            "text/html": [
              "<div>\n",
              "<style scoped>\n",
              "    .dataframe tbody tr th:only-of-type {\n",
              "        vertical-align: middle;\n",
              "    }\n",
              "\n",
              "    .dataframe tbody tr th {\n",
              "        vertical-align: top;\n",
              "    }\n",
              "\n",
              "    .dataframe thead th {\n",
              "        text-align: right;\n",
              "    }\n",
              "</style>\n",
              "<table border=\"1\" class=\"dataframe\">\n",
              "  <thead>\n",
              "    <tr style=\"text-align: right;\">\n",
              "      <th></th>\n",
              "      <th>match_id</th>\n",
              "      <th>batsman</th>\n",
              "      <th>batting_team</th>\n",
              "      <th>batsman_runs</th>\n",
              "    </tr>\n",
              "  </thead>\n",
              "  <tbody>\n",
              "    <tr>\n",
              "      <th>0</th>\n",
              "      <td>1</td>\n",
              "      <td>A Choudhary</td>\n",
              "      <td>RCB</td>\n",
              "      <td>6</td>\n",
              "    </tr>\n",
              "    <tr>\n",
              "      <th>1</th>\n",
              "      <td>1</td>\n",
              "      <td>BCJ Cutting</td>\n",
              "      <td>SRH</td>\n",
              "      <td>16</td>\n",
              "    </tr>\n",
              "    <tr>\n",
              "      <th>2</th>\n",
              "      <td>1</td>\n",
              "      <td>CH Gayle</td>\n",
              "      <td>RCB</td>\n",
              "      <td>32</td>\n",
              "    </tr>\n",
              "    <tr>\n",
              "      <th>3</th>\n",
              "      <td>1</td>\n",
              "      <td>DA Warner</td>\n",
              "      <td>SRH</td>\n",
              "      <td>14</td>\n",
              "    </tr>\n",
              "    <tr>\n",
              "      <th>4</th>\n",
              "      <td>1</td>\n",
              "      <td>DJ Hooda</td>\n",
              "      <td>SRH</td>\n",
              "      <td>16</td>\n",
              "    </tr>\n",
              "    <tr>\n",
              "      <th>...</th>\n",
              "      <td>...</td>\n",
              "      <td>...</td>\n",
              "      <td>...</td>\n",
              "      <td>...</td>\n",
              "    </tr>\n",
              "    <tr>\n",
              "      <th>11158</th>\n",
              "      <td>11415</td>\n",
              "      <td>RD Chahar</td>\n",
              "      <td>MI</td>\n",
              "      <td>0</td>\n",
              "    </tr>\n",
              "    <tr>\n",
              "      <th>11159</th>\n",
              "      <td>11415</td>\n",
              "      <td>RG Sharma</td>\n",
              "      <td>MI</td>\n",
              "      <td>15</td>\n",
              "    </tr>\n",
              "    <tr>\n",
              "      <th>11160</th>\n",
              "      <td>11415</td>\n",
              "      <td>SK Raina</td>\n",
              "      <td>CSK</td>\n",
              "      <td>9</td>\n",
              "    </tr>\n",
              "    <tr>\n",
              "      <th>11161</th>\n",
              "      <td>11415</td>\n",
              "      <td>SN Thakur</td>\n",
              "      <td>CSK</td>\n",
              "      <td>2</td>\n",
              "    </tr>\n",
              "    <tr>\n",
              "      <th>11162</th>\n",
              "      <td>11415</td>\n",
              "      <td>SR Watson</td>\n",
              "      <td>CSK</td>\n",
              "      <td>84</td>\n",
              "    </tr>\n",
              "  </tbody>\n",
              "</table>\n",
              "<p>11163 rows × 4 columns</p>\n",
              "</div>"
            ],
            "text/plain": [
              "       match_id      batsman batting_team  batsman_runs\n",
              "0             1  A Choudhary          RCB             6\n",
              "1             1  BCJ Cutting          SRH            16\n",
              "2             1     CH Gayle          RCB            32\n",
              "3             1    DA Warner          SRH            14\n",
              "4             1     DJ Hooda          SRH            16\n",
              "...         ...          ...          ...           ...\n",
              "11158     11415    RD Chahar           MI             0\n",
              "11159     11415    RG Sharma           MI            15\n",
              "11160     11415     SK Raina          CSK             9\n",
              "11161     11415    SN Thakur          CSK             2\n",
              "11162     11415    SR Watson          CSK            84\n",
              "\n",
              "[11163 rows x 4 columns]"
            ]
          },
          "metadata": {
            "tags": []
          },
          "execution_count": 50
        }
      ]
    },
    {
      "cell_type": "markdown",
      "metadata": {
        "id": "tUilFRBveItq"
      },
      "source": [
        "***find the batsman and its maximun runs formed by playing cricket***"
      ]
    },
    {
      "cell_type": "code",
      "metadata": {
        "colab": {
          "base_uri": "https://localhost:8080/",
          "height": 419
        },
        "id": "D3-X229TklXq",
        "outputId": "1749cae4-877a-40bc-e5d5-d8a1b9c7dbb3"
      },
      "source": [
        "max=grp.groupby(['batsman'])['batsman_runs'].max().reset_index()\r\n",
        "max.columns=['batsman','max_runs']\r\n",
        "max"
      ],
      "execution_count": null,
      "outputs": [
        {
          "output_type": "execute_result",
          "data": {
            "text/html": [
              "<div>\n",
              "<style scoped>\n",
              "    .dataframe tbody tr th:only-of-type {\n",
              "        vertical-align: middle;\n",
              "    }\n",
              "\n",
              "    .dataframe tbody tr th {\n",
              "        vertical-align: top;\n",
              "    }\n",
              "\n",
              "    .dataframe thead th {\n",
              "        text-align: right;\n",
              "    }\n",
              "</style>\n",
              "<table border=\"1\" class=\"dataframe\">\n",
              "  <thead>\n",
              "    <tr style=\"text-align: right;\">\n",
              "      <th></th>\n",
              "      <th>batsman</th>\n",
              "      <th>max_runs</th>\n",
              "    </tr>\n",
              "  </thead>\n",
              "  <tbody>\n",
              "    <tr>\n",
              "      <th>0</th>\n",
              "      <td>A Ashish Reddy</td>\n",
              "      <td>36</td>\n",
              "    </tr>\n",
              "    <tr>\n",
              "      <th>1</th>\n",
              "      <td>A Chandila</td>\n",
              "      <td>4</td>\n",
              "    </tr>\n",
              "    <tr>\n",
              "      <th>2</th>\n",
              "      <td>A Chopra</td>\n",
              "      <td>24</td>\n",
              "    </tr>\n",
              "    <tr>\n",
              "      <th>3</th>\n",
              "      <td>A Choudhary</td>\n",
              "      <td>15</td>\n",
              "    </tr>\n",
              "    <tr>\n",
              "      <th>4</th>\n",
              "      <td>A Dananjaya</td>\n",
              "      <td>4</td>\n",
              "    </tr>\n",
              "    <tr>\n",
              "      <th>...</th>\n",
              "      <td>...</td>\n",
              "      <td>...</td>\n",
              "    </tr>\n",
              "    <tr>\n",
              "      <th>505</th>\n",
              "      <td>YV Takawale</td>\n",
              "      <td>45</td>\n",
              "    </tr>\n",
              "    <tr>\n",
              "      <th>506</th>\n",
              "      <td>Yashpal Singh</td>\n",
              "      <td>20</td>\n",
              "    </tr>\n",
              "    <tr>\n",
              "      <th>507</th>\n",
              "      <td>Younis Khan</td>\n",
              "      <td>3</td>\n",
              "    </tr>\n",
              "    <tr>\n",
              "      <th>508</th>\n",
              "      <td>Yuvraj Singh</td>\n",
              "      <td>83</td>\n",
              "    </tr>\n",
              "    <tr>\n",
              "      <th>509</th>\n",
              "      <td>Z Khan</td>\n",
              "      <td>23</td>\n",
              "    </tr>\n",
              "  </tbody>\n",
              "</table>\n",
              "<p>510 rows × 2 columns</p>\n",
              "</div>"
            ],
            "text/plain": [
              "            batsman  max_runs\n",
              "0    A Ashish Reddy        36\n",
              "1        A Chandila         4\n",
              "2          A Chopra        24\n",
              "3       A Choudhary        15\n",
              "4       A Dananjaya         4\n",
              "..              ...       ...\n",
              "505     YV Takawale        45\n",
              "506   Yashpal Singh        20\n",
              "507     Younis Khan         3\n",
              "508    Yuvraj Singh        83\n",
              "509          Z Khan        23\n",
              "\n",
              "[510 rows x 2 columns]"
            ]
          },
          "metadata": {
            "tags": []
          },
          "execution_count": 51
        }
      ]
    },
    {
      "cell_type": "code",
      "metadata": {
        "colab": {
          "base_uri": "https://localhost:8080/",
          "height": 419
        },
        "id": "NP9ylsuQkotX",
        "outputId": "f9438441-1588-4723-a8e0-fd531a6a3d14"
      },
      "source": [
        "player2=pd.concat([player,max.iloc[:,1:3]],axis=1)\r\n",
        "player2"
      ],
      "execution_count": null,
      "outputs": [
        {
          "output_type": "execute_result",
          "data": {
            "text/html": [
              "<div>\n",
              "<style scoped>\n",
              "    .dataframe tbody tr th:only-of-type {\n",
              "        vertical-align: middle;\n",
              "    }\n",
              "\n",
              "    .dataframe tbody tr th {\n",
              "        vertical-align: top;\n",
              "    }\n",
              "\n",
              "    .dataframe thead th {\n",
              "        text-align: right;\n",
              "    }\n",
              "</style>\n",
              "<table border=\"1\" class=\"dataframe\">\n",
              "  <thead>\n",
              "    <tr style=\"text-align: right;\">\n",
              "      <th></th>\n",
              "      <th>batsman</th>\n",
              "      <th>runs</th>\n",
              "      <th>ball</th>\n",
              "      <th>4s</th>\n",
              "      <th>6s</th>\n",
              "      <th>strike_rate</th>\n",
              "      <th>max_runs</th>\n",
              "    </tr>\n",
              "  </thead>\n",
              "  <tbody>\n",
              "    <tr>\n",
              "      <th>0</th>\n",
              "      <td>A Ashish Reddy</td>\n",
              "      <td>280</td>\n",
              "      <td>196</td>\n",
              "      <td>16.0</td>\n",
              "      <td>15</td>\n",
              "      <td>1.428571</td>\n",
              "      <td>36.0</td>\n",
              "    </tr>\n",
              "    <tr>\n",
              "      <th>1</th>\n",
              "      <td>A Chandila</td>\n",
              "      <td>4</td>\n",
              "      <td>7</td>\n",
              "      <td>7.0</td>\n",
              "      <td>0</td>\n",
              "      <td>0.571429</td>\n",
              "      <td>4.0</td>\n",
              "    </tr>\n",
              "    <tr>\n",
              "      <th>2</th>\n",
              "      <td>A Chopra</td>\n",
              "      <td>53</td>\n",
              "      <td>75</td>\n",
              "      <td>1.0</td>\n",
              "      <td>0</td>\n",
              "      <td>0.706667</td>\n",
              "      <td>24.0</td>\n",
              "    </tr>\n",
              "    <tr>\n",
              "      <th>3</th>\n",
              "      <td>A Choudhary</td>\n",
              "      <td>25</td>\n",
              "      <td>20</td>\n",
              "      <td>5.0</td>\n",
              "      <td>1</td>\n",
              "      <td>1.250000</td>\n",
              "      <td>15.0</td>\n",
              "    </tr>\n",
              "    <tr>\n",
              "      <th>4</th>\n",
              "      <td>A Dananjaya</td>\n",
              "      <td>4</td>\n",
              "      <td>5</td>\n",
              "      <td>13.0</td>\n",
              "      <td>0</td>\n",
              "      <td>0.800000</td>\n",
              "      <td>4.0</td>\n",
              "    </tr>\n",
              "    <tr>\n",
              "      <th>...</th>\n",
              "      <td>...</td>\n",
              "      <td>...</td>\n",
              "      <td>...</td>\n",
              "      <td>...</td>\n",
              "      <td>...</td>\n",
              "      <td>...</td>\n",
              "      <td>...</td>\n",
              "    </tr>\n",
              "    <tr>\n",
              "      <th>511</th>\n",
              "      <td>YV Takawale</td>\n",
              "      <td>192</td>\n",
              "      <td>183</td>\n",
              "      <td>0.0</td>\n",
              "      <td>3</td>\n",
              "      <td>1.049180</td>\n",
              "      <td>NaN</td>\n",
              "    </tr>\n",
              "    <tr>\n",
              "      <th>512</th>\n",
              "      <td>Yashpal Singh</td>\n",
              "      <td>47</td>\n",
              "      <td>67</td>\n",
              "      <td>0.0</td>\n",
              "      <td>0</td>\n",
              "      <td>0.701493</td>\n",
              "      <td>NaN</td>\n",
              "    </tr>\n",
              "    <tr>\n",
              "      <th>513</th>\n",
              "      <td>Younis Khan</td>\n",
              "      <td>3</td>\n",
              "      <td>7</td>\n",
              "      <td>0.0</td>\n",
              "      <td>0</td>\n",
              "      <td>0.428571</td>\n",
              "      <td>NaN</td>\n",
              "    </tr>\n",
              "    <tr>\n",
              "      <th>514</th>\n",
              "      <td>Yuvraj Singh</td>\n",
              "      <td>2765</td>\n",
              "      <td>2207</td>\n",
              "      <td>0.0</td>\n",
              "      <td>149</td>\n",
              "      <td>1.252832</td>\n",
              "      <td>NaN</td>\n",
              "    </tr>\n",
              "    <tr>\n",
              "      <th>515</th>\n",
              "      <td>Z Khan</td>\n",
              "      <td>117</td>\n",
              "      <td>141</td>\n",
              "      <td>0.0</td>\n",
              "      <td>2</td>\n",
              "      <td>0.829787</td>\n",
              "      <td>NaN</td>\n",
              "    </tr>\n",
              "  </tbody>\n",
              "</table>\n",
              "<p>516 rows × 7 columns</p>\n",
              "</div>"
            ],
            "text/plain": [
              "            batsman  runs  ball    4s   6s  strike_rate  max_runs\n",
              "0    A Ashish Reddy   280   196  16.0   15     1.428571      36.0\n",
              "1        A Chandila     4     7   7.0    0     0.571429       4.0\n",
              "2          A Chopra    53    75   1.0    0     0.706667      24.0\n",
              "3       A Choudhary    25    20   5.0    1     1.250000      15.0\n",
              "4       A Dananjaya     4     5  13.0    0     0.800000       4.0\n",
              "..              ...   ...   ...   ...  ...          ...       ...\n",
              "511     YV Takawale   192   183   0.0    3     1.049180       NaN\n",
              "512   Yashpal Singh    47    67   0.0    0     0.701493       NaN\n",
              "513     Younis Khan     3     7   0.0    0     0.428571       NaN\n",
              "514    Yuvraj Singh  2765  2207   0.0  149     1.252832       NaN\n",
              "515          Z Khan   117   141   0.0    2     0.829787       NaN\n",
              "\n",
              "[516 rows x 7 columns]"
            ]
          },
          "metadata": {
            "tags": []
          },
          "execution_count": 52
        }
      ]
    },
    {
      "cell_type": "markdown",
      "metadata": {
        "id": "dNAWImqxkuQl"
      },
      "source": [
        "***Top 10 Batsman***"
      ]
    },
    {
      "cell_type": "code",
      "metadata": {
        "colab": {
          "base_uri": "https://localhost:8080/",
          "height": 352
        },
        "id": "cuV5vna2kr0S",
        "outputId": "4d302960-0586-45db-e6af-50d88019a44d"
      },
      "source": [
        "max_runs=df.groupby(['batsman'])['batsman_runs'].sum()\r\n",
        "max_runs.sort_values(ascending=False)[:10].plot.bar()"
      ],
      "execution_count": null,
      "outputs": [
        {
          "output_type": "execute_result",
          "data": {
            "text/plain": [
              "<matplotlib.axes._subplots.AxesSubplot at 0x7ff763d9fd50>"
            ]
          },
          "metadata": {
            "tags": []
          },
          "execution_count": 53
        },
        {
          "output_type": "display_data",
          "data": {
            "image/png": "[encoded data removed]",
            "text/plain": [
              "<Figure size 432x288 with 1 Axes>"
            ]
          },
          "metadata": {
            "tags": [],
            "needs_background": "light"
          }
        }
      ]
    },
    {
      "cell_type": "markdown",
      "metadata": {
        "id": "w35UerCHvp8_"
      },
      "source": [
        "***Let's move on the matches dataset...***"
      ]
    }
  ]
}